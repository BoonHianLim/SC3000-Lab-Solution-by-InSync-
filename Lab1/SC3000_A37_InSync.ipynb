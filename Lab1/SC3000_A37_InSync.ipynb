{
  "nbformat": 4,
  "nbformat_minor": 0,
  "metadata": {
    "colab": {
      "provenance": []
    },
    "kernelspec": {
      "name": "python3",
      "display_name": "Python 3"
    },
    "language_info": {
      "name": "python"
    }
  },
  "cells": [
    {
      "cell_type": "markdown",
      "source": [
        "# Lab Group A37: Assignment 1 Cart Pole"
      ],
      "metadata": {
        "id": "ZauhjPSfX7pI"
      }
    },
    {
      "cell_type": "markdown",
      "source": [
        "## Team: InSync\n",
        "\n",
        "Contributions:\n",
        "\n",
        "1) Lim Boon Hian (U2120791F)\n",
        "\n",
        "- Physics method and explanations.\n",
        "\n",
        "2) Tio Guo Yong (U2123181B)\n",
        "\n",
        "- Proximal Policy Optimisation (PPO) method and explanations."
      ],
      "metadata": {
        "id": "oDBQVEo8Rg6z"
      }
    },
    {
      "cell_type": "markdown",
      "source": [
        "# Note\n",
        "# - This notebook is best viewed with Google Colab. Please open this notebook in Google Colab for the video to load.\n",
        "# - You need to run the notebook sequentially from the start until the end to avoid any dependency issues."
      ],
      "metadata": {
        "id": "aVC6nlRUwEsS"
      }
    },
    {
      "cell_type": "markdown",
      "source": [
        "### Installing dependencies"
      ],
      "metadata": {
        "id": "UBiYOoesYMvr"
      }
    },
    {
      "cell_type": "code",
      "execution_count": null,
      "metadata": {
        "id": "PbgnVwZmX5uW",
        "colab": {
          "base_uri": "https://localhost:8080/"
        },
        "outputId": "3044d10d-68ae-4ff9-df07-fc0d8a0b1e8e"
      },
      "outputs": [
        {
          "output_type": "stream",
          "name": "stdout",
          "text": [
            "Looking in indexes: https://pypi.org/simple, https://us-python.pkg.dev/colab-wheels/public/simple/\n",
            "Requirement already satisfied: gym[classic_control] in /usr/local/lib/python3.9/dist-packages (0.25.2)\n",
            "Requirement already satisfied: gym-notices>=0.0.4 in /usr/local/lib/python3.9/dist-packages (from gym[classic_control]) (0.0.8)\n",
            "Requirement already satisfied: importlib-metadata>=4.8.0 in /usr/local/lib/python3.9/dist-packages (from gym[classic_control]) (6.0.0)\n",
            "Requirement already satisfied: numpy>=1.18.0 in /usr/local/lib/python3.9/dist-packages (from gym[classic_control]) (1.22.4)\n",
            "Requirement already satisfied: cloudpickle>=1.2.0 in /usr/local/lib/python3.9/dist-packages (from gym[classic_control]) (2.2.1)\n",
            "Collecting pygame==2.1.0\n",
            "  Downloading pygame-2.1.0-cp39-cp39-manylinux_2_17_x86_64.manylinux2014_x86_64.whl (18.3 MB)\n",
            "\u001b[2K     \u001b[90m━━━━━━━━━━━━━━━━━━━━━━━━━━━━━━━━━━━━━━━━\u001b[0m \u001b[32m18.3/18.3 MB\u001b[0m \u001b[31m46.7 MB/s\u001b[0m eta \u001b[36m0:00:00\u001b[0m\n",
            "\u001b[?25hRequirement already satisfied: zipp>=0.5 in /usr/local/lib/python3.9/dist-packages (from importlib-metadata>=4.8.0->gym[classic_control]) (3.15.0)\n",
            "Installing collected packages: pygame\n",
            "Successfully installed pygame-2.1.0\n",
            "Looking in indexes: https://pypi.org/simple, https://us-python.pkg.dev/colab-wheels/public/simple/\n",
            "Requirement already satisfied: setuptools in /usr/local/lib/python3.9/dist-packages (63.4.3)\n",
            "Collecting setuptools\n",
            "  Downloading setuptools-67.6.0-py3-none-any.whl (1.1 MB)\n",
            "\u001b[2K     \u001b[90m━━━━━━━━━━━━━━━━━━━━━━━━━━━━━━━━━━━━━━━━\u001b[0m \u001b[32m1.1/1.1 MB\u001b[0m \u001b[31m23.6 MB/s\u001b[0m eta \u001b[36m0:00:00\u001b[0m\n",
            "\u001b[?25hInstalling collected packages: setuptools\n",
            "  Attempting uninstall: setuptools\n",
            "    Found existing installation: setuptools 63.4.3\n",
            "    Uninstalling setuptools-63.4.3:\n",
            "      Successfully uninstalled setuptools-63.4.3\n",
            "\u001b[31mERROR: pip's dependency resolver does not currently take into account all the packages that are installed. This behaviour is the source of the following dependency conflicts.\n",
            "ipython 7.9.0 requires jedi>=0.10, which is not installed.\n",
            "cvxpy 1.3.0 requires setuptools<=64.0.2, but you have setuptools 67.6.0 which is incompatible.\u001b[0m\u001b[31m\n",
            "\u001b[0mSuccessfully installed setuptools-67.6.0\n"
          ]
        }
      ],
      "source": [
        "!apt-get install -y xvfb python-opengl > /dev/null 2>&1\n",
        "!pip install gym pyvirtualdisplay > /dev/null 2>&1\n",
        "!pip install gym pyvirtualdisplay > /dev/null 2>&1\n",
        "!apt-get install -y xvfb python-opengl ffmpeg > /dev/null 2>&1\n",
        "!pip install gym[classic_control]\n",
        "!apt-get update > /dev/null 2>&1\n",
        "!apt-get install cmake > /dev/null 2>&1\n",
        "!pip install --upgrade setuptools 2>&1\n",
        "!pip install ez_setup > /dev/null 2>&1"
      ]
    },
    {
      "cell_type": "markdown",
      "source": [
        "### Importing dependencies and define helper functions"
      ],
      "metadata": {
        "id": "RwKbYeTgbaTA"
      }
    },
    {
      "cell_type": "code",
      "source": [
        "import gym\n",
        "from gym import logger as gymlogger\n",
        "from gym.wrappers import RecordVideo\n",
        "gymlogger.set_level(40) #error only\n",
        "import tensorflow as tf\n",
        "import numpy as np\n",
        "import random\n",
        "import matplotlib\n",
        "import matplotlib.pyplot as plt\n",
        "%matplotlib inline\n",
        "import math\n",
        "import glob\n",
        "import io\n",
        "import base64\n",
        "from IPython.display import HTML\n",
        "from IPython import display as ipythondisplay\n",
        "\n",
        "def show_video():\n",
        "  mp4list = glob.glob('video/*.mp4')\n",
        "  if len(mp4list) > 0:\n",
        "    mp4 = mp4list[0]\n",
        "    video = io.open(mp4, 'r+b').read()\n",
        "    encoded = base64.b64encode(video)\n",
        "    ipythondisplay.display(HTML(data='''<video alt=\"test\" autoplay \n",
        "                loop controls style=\"height: 400px;\">\n",
        "                <source src=\"data:video/mp4;base64,{0}\" type=\"video/mp4\" />\n",
        "             </video>'''.format(encoded.decode('ascii'))))\n",
        "  else: \n",
        "    print(\"Could not find video\")"
      ],
      "metadata": {
        "id": "j6KpgCLGYWmj"
      },
      "execution_count": null,
      "outputs": []
    },
    {
      "cell_type": "markdown",
      "source": [
        "### Understanding the cart pole environment"
      ],
      "metadata": {
        "id": "ehbqP9CXbmo7"
      }
    },
    {
      "cell_type": "markdown",
      "source": [
        "We will use the cart pole environment provided by Gym. [[1]](#reference)"
      ],
      "metadata": {
        "id": "MKJaHznSAf50"
      }
    },
    {
      "cell_type": "code",
      "source": [
        "env = gym.make(\"CartPole-v1\")"
      ],
      "metadata": {
        "id": "Go12dH4qbwBy"
      },
      "execution_count": null,
      "outputs": []
    },
    {
      "cell_type": "markdown",
      "source": [
        "We can check the action and observation space of this environment. Discrete(2) means that there are two valid discrete actions: 0 & 1."
      ],
      "metadata": {
        "id": "9XZ9g3xrcAXE"
      }
    },
    {
      "cell_type": "code",
      "source": [
        "print(env.action_space)"
      ],
      "metadata": {
        "colab": {
          "base_uri": "https://localhost:8080/"
        },
        "id": "ytxvVmLdcRyw",
        "outputId": "d3199b0e-aec2-46d6-bb8b-38f42771189c"
      },
      "execution_count": null,
      "outputs": [
        {
          "output_type": "stream",
          "name": "stdout",
          "text": [
            "Discrete(2)\n"
          ]
        }
      ]
    },
    {
      "cell_type": "markdown",
      "source": [
        "The observation space is given below. The first two arrays define the min and max values of the 4 observed values, corresponding to cart position, velocity and pole angle, angular velocity."
      ],
      "metadata": {
        "id": "pVXGWi_Ncfg-"
      }
    },
    {
      "cell_type": "code",
      "source": [
        "print(env.observation_space)"
      ],
      "metadata": {
        "colab": {
          "base_uri": "https://localhost:8080/"
        },
        "id": "DyqHr9I5cdkX",
        "outputId": "1ce00a65-e491-4aac-a130-af1f838f7fbc"
      },
      "execution_count": null,
      "outputs": [
        {
          "output_type": "stream",
          "name": "stdout",
          "text": [
            "Box([-4.8000002e+00 -3.4028235e+38 -4.1887903e-01 -3.4028235e+38], [4.8000002e+00 3.4028235e+38 4.1887903e-01 3.4028235e+38], (4,), float32)\n"
          ]
        }
      ]
    },
    {
      "cell_type": "markdown",
      "source": [
        "We call each round of the pole-balancing game an \"episode\". At the start of each episode, make sure the environment is reset, which chooses a random initial state, e.g., pole slightly tilted to the right. This initialisation can be achieved by the code below, which returns the observation of the initial state.\n",
        "\n",
        "The observation space is a array, which return 4 values. The details of these values are as follows [[1]](#reference):\n",
        "\n",
        "| Index      | Details |  Note |\n",
        "| ----------- | ----------- | ----------- |\n",
        "| 0   | Cart Position         | Positive = On the right, Negative = On the left\n",
        "| 1   | Cart Velocity         | Positive = Move towards right, Negative = Move towards left\n",
        "| 2   | Pole Angle            | Positive = Tilted to the right, Negative = Tilted to the left\n",
        "| 3   | Pole Angular Velocity | Positive = Rotate clockwise, Negative = Rotate anti-clockwise  \n",
        "\n",
        "<br>According to gym documentation [[1]](#reference), the episode ends when:\n",
        "\n",
        "- Pole Angle is greater than ±12°\n",
        "- Cart Position is greater than ±2.4 (center of the cart reaches the edge of the display)\n",
        "- Episode length is greater than 500"
      ],
      "metadata": {
        "id": "HFOdaU2Gdyg0"
      }
    },
    {
      "cell_type": "code",
      "source": [
        "observation = env.reset()\n",
        "print(\"Initial observations:\", observation)"
      ],
      "metadata": {
        "colab": {
          "base_uri": "https://localhost:8080/"
        },
        "id": "VMr6qAqxdOsm",
        "outputId": "f0bff454-e3ca-45c7-97cf-fa7089042f22"
      },
      "execution_count": null,
      "outputs": [
        {
          "output_type": "stream",
          "name": "stdout",
          "text": [
            "Initial observations: [-0.00068887  0.00546972  0.04707896 -0.036665  ]\n"
          ]
        }
      ]
    },
    {
      "cell_type": "markdown",
      "source": [
        "For the cart pole environment, there are two possible actions: 0 for pushing to the left and 1 for pushing to the right. For example, we can push the cart to the left using code below, which returns the new observation, the current reward, an indicator of whether the game ends, and some additional information (not used in this project). For this environment, the game ends when the pole is significantly tilted or you manage to balance the pole for 500 steps. We get exactly 1 reward for each step before the game ends (i.e., max cumulative reward is 500)."
      ],
      "metadata": {
        "id": "qnG2QdfbeZrI"
      }
    },
    {
      "cell_type": "code",
      "source": [
        "observation, reward, done, info = env.step(0)\n",
        "print(\"New observations after choosing action 0:\", observation)\n",
        "print(\"Reward for this step:\", reward)\n",
        "print(\"Is this round done?\", done)"
      ],
      "metadata": {
        "colab": {
          "base_uri": "https://localhost:8080/"
        },
        "id": "MmfMDvyYdWGk",
        "outputId": "d1e975de-9f79-4bc1-88b8-102ef985669c"
      },
      "execution_count": null,
      "outputs": [
        {
          "output_type": "stream",
          "name": "stdout",
          "text": [
            "New observations after choosing action 0: [-0.00057947 -0.19029462  0.04634565  0.27049226]\n",
            "Reward for this step: 1.0\n",
            "Is this round done? False\n"
          ]
        }
      ]
    },
    {
      "cell_type": "code",
      "source": [
        "observation = env.reset()\n",
        "cumulative_reward = 0\n",
        "done = False\n",
        "while not done:\n",
        "    observation, reward, done, info = env.step(0)\n",
        "    cumulative_reward += reward\n",
        "print(\"Cumulative reward for this round:\", cumulative_reward)"
      ],
      "metadata": {
        "colab": {
          "base_uri": "https://localhost:8080/"
        },
        "id": "YsEu0L9Mfvxs",
        "outputId": "caec0ccb-22f0-4fde-9dae-144f813cd707"
      },
      "execution_count": null,
      "outputs": [
        {
          "output_type": "stream",
          "name": "stdout",
          "text": [
            "Cumulative reward for this round: 10.0\n"
          ]
        }
      ]
    },
    {
      "cell_type": "markdown",
      "source": [
        "## Physics Agent"
      ],
      "metadata": {
        "id": "SP8RnA9ndQ7E"
      }
    },
    {
      "cell_type": "markdown",
      "source": [
        "### Task 1: Development of the agent"
      ],
      "metadata": {
        "id": "2oIzK9SzhlWN"
      }
    },
    {
      "cell_type": "markdown",
      "source": [
        "We will use a Physics-based agent based on the following policy."
      ],
      "metadata": {
        "id": "tL3SNwceCHxl"
      }
    },
    {
      "cell_type": "code",
      "source": [
        "def theta_omega_policy(obs):\n",
        "    theta, w = obs[2:4]\n",
        "    if abs(theta) < 0.03:\n",
        "        return 0 if w < 0 else 1\n",
        "    else:\n",
        "        return 0 if theta < 0 else 1"
      ],
      "metadata": {
        "id": "kBQLbNd6tM8N"
      },
      "execution_count": null,
      "outputs": []
    },
    {
      "cell_type": "markdown",
      "source": [
        "#### Random state sampling\n",
        "We sample one random set of observations. Then, we feed the observation set into the Physics agent to output one corresponding action."
      ],
      "metadata": {
        "id": "K18m0iX0dhGQ"
      }
    },
    {
      "cell_type": "code",
      "source": [
        "env = gym.make(\"CartPole-v1\")"
      ],
      "metadata": {
        "id": "qAYET6KOdncH"
      },
      "execution_count": null,
      "outputs": []
    },
    {
      "cell_type": "code",
      "source": [
        "observation = env.reset()\n",
        "action = theta_omega_policy(observation)\n",
        "print(\"Observation:\", observation)\n",
        "print(\"Chosen action:\", action)"
      ],
      "metadata": {
        "colab": {
          "base_uri": "https://localhost:8080/"
        },
        "id": "vBX8ffk3tN6u",
        "outputId": "cac9857e-eaf0-4b25-b1ea-8a28f3bfedf9"
      },
      "execution_count": null,
      "outputs": [
        {
          "output_type": "stream",
          "name": "stdout",
          "text": [
            "Observation: [-0.04898144  0.04750277 -0.02293599  0.01143248]\n",
            "Chosen action: 1\n"
          ]
        }
      ]
    },
    {
      "cell_type": "markdown",
      "source": [
        "### Task 2: Demonstrate the effectiveness of the agent"
      ],
      "metadata": {
        "id": "-XtIQ0Rti1gm"
      }
    },
    {
      "cell_type": "code",
      "source": [
        "MAX_EPISODE = 100\n",
        "MAX_ACTIONS = 500"
      ],
      "metadata": {
        "id": "_u99Whn8xnzf"
      },
      "execution_count": null,
      "outputs": []
    },
    {
      "cell_type": "code",
      "source": [
        "def test_policy(policy_func, episodeNum = MAX_EPISODE, max_actions = MAX_ACTIONS, verbose=False):\n",
        "    final_rewards = []\n",
        "    for episode in range(episodeNum):\n",
        "        if verbose and episode % 50 == 0:\n",
        "            print(episode)\n",
        "        episode_rewards = 0\n",
        "        obs = env.reset()  # reset to a random position\n",
        "        for step in range(max_actions):\n",
        "            action = policy_func(obs)\n",
        "            obs, reward, done, info = env.step(action)\n",
        "            episode_rewards += reward\n",
        "            if done:\n",
        "                break\n",
        "        final_rewards.append(episode_rewards)\n",
        "    return final_rewards"
      ],
      "metadata": {
        "id": "w0iEoeRUtyg3"
      },
      "execution_count": null,
      "outputs": []
    },
    {
      "cell_type": "code",
      "source": [
        "def plot_policy(final_rewards, policy_name:str=''):\n",
        "    import matplotlib\n",
        "    import matplotlib.pyplot as plt\n",
        "    import numpy as np\n",
        "    fig = plt.plot(range(len(final_rewards)), final_rewards)\n",
        "    plt.grid()\n",
        "    plt.title(policy_name + \" Mean Reward {:.2f}, Std Reward {:.2f}\".format(np.mean(final_rewards), np.std(final_rewards)))\n",
        "    plt.ylabel('Cum Reward')\n",
        "    plt.xlabel('Iteration')\n",
        "    plt.ylim(0, max(final_rewards)*1.1)\n",
        "    return fig"
      ],
      "metadata": {
        "id": "XavWfPn6v6X6"
      },
      "execution_count": null,
      "outputs": []
    },
    {
      "cell_type": "code",
      "source": [
        "rand_rewards = test_policy(theta_omega_policy)"
      ],
      "metadata": {
        "id": "cgbYYHAwwU0p"
      },
      "execution_count": null,
      "outputs": []
    },
    {
      "cell_type": "code",
      "source": [
        "pt = plot_policy(rand_rewards, \"Physics Policy\")"
      ],
      "metadata": {
        "colab": {
          "base_uri": "https://localhost:8080/",
          "height": 295
        },
        "id": "7CDadNOrwZhy",
        "outputId": "7ab69593-1e9b-4cb6-9e81-325c1b443a57"
      },
      "execution_count": null,
      "outputs": [
        {
          "output_type": "display_data",
          "data": {
            "text/plain": [
              "<Figure size 432x288 with 1 Axes>"
            ],
            "image/png": "[encoded data removed]"
          },
          "metadata": {
            "needs_background": "light"
          }
        }
      ]
    },
    {
      "cell_type": "code",
      "source": [
        "def average(lst):\n",
        "    return sum(lst) / len(lst)"
      ],
      "metadata": {
        "id": "akxx1ObhwqlD"
      },
      "execution_count": null,
      "outputs": []
    },
    {
      "cell_type": "code",
      "source": [
        "print(\"Average cumulative reward:\", average(rand_rewards))\n",
        "print(\"Is my agent good enough?\", average(rand_rewards) > 195)"
      ],
      "metadata": {
        "colab": {
          "base_uri": "https://localhost:8080/"
        },
        "id": "eGtkNIo1xDF2",
        "outputId": "980b2f1c-e5df-40ac-97aa-2c37030288c7"
      },
      "execution_count": null,
      "outputs": [
        {
          "output_type": "stream",
          "name": "stdout",
          "text": [
            "Average cumulative reward: 500.0\n",
            "Is my agent good enough? True\n"
          ]
        }
      ]
    },
    {
      "cell_type": "markdown",
      "source": [
        "We can see that the Physics agent performs very well on average with a mean reward of 500."
      ],
      "metadata": {
        "id": "40Pe2qunSaP0"
      }
    },
    {
      "cell_type": "markdown",
      "source": [
        "### Task 3: Render one episode played by the agent"
      ],
      "metadata": {
        "id": "Yg0DCT38lFA6"
      }
    },
    {
      "cell_type": "markdown",
      "source": [
        "We will see the Physics agent performing in the cart pole environment for one episode and render the process."
      ],
      "metadata": {
        "id": "vx1awMr9lc_w"
      }
    },
    {
      "cell_type": "code",
      "source": [
        "env = RecordVideo(gym.make(\"CartPole-v1\"), \"./video\")\n",
        "observation = env.reset()\n",
        "while True:\n",
        "    env.render()\n",
        "    action = theta_omega_policy(observation) # Calling Physics agent\n",
        "    observation, reward, done, info = env.step(action) \n",
        "    if done: \n",
        "      break;    \n",
        "env.close()\n",
        "show_video()"
      ],
      "metadata": {
        "colab": {
          "base_uri": "https://localhost:8080/",
          "height": 422
        },
        "id": "LYyavfbIa47D",
        "outputId": "e4abc027-fe45-45dd-db7b-520bee22a058"
      },
      "execution_count": null,
      "outputs": [
        {
          "output_type": "display_data",
          "data": {
            "text/plain": [
              "<IPython.core.display.HTML object>"
            ],
            "text/html": [
              "<video alt=\"test\" autoplay \n",
              "                loop controls style=\"height: 400px;\">\n",
              "                <source src=\"data:video/mp4;base64,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\" type=\"video/mp4\" />\n",
              "             </video>"
            ]
          },
          "metadata": {}
        }
      ]
    },
    {
      "cell_type": "markdown",
      "source": [
        "### Task 4: Explain your approach and analyze the output"
      ],
      "metadata": {
        "id": "yRkK4Z_aiRkZ"
      }
    },
    {
      "cell_type": "markdown",
      "source": [
        "This agent is built based on [[3]](#reference).\n",
        "\n",
        "θ: the angle between the pole and the vertical position (positive means clock-wise)\n",
        "\n",
        "ω: angular velocity of the pole (positive means rotating clock-wise)\n",
        "\n",
        "Physical agents make use of θ (theta) and ω (omega) to decide the action, that is why the policy is called theta-omega policy. \n",
        "\n",
        "The algorithm works as follows:\n",
        "\n",
        "If the angle θ is small (<0.03):\n",
        "\t\n",
        "&nbsp;&nbsp;&nbsp;&nbsp;&nbsp;&nbsp;(Omega Policy)\n",
        "\n",
        "&nbsp;&nbsp;&nbsp;&nbsp;&nbsp;&nbsp;Push to left if the pole is rotating anti-clockwise, Push to right if the pole is rotating clockwise.\n",
        "\n",
        "Else if the angle θ is large:\n",
        "\t\n",
        "&nbsp;&nbsp;&nbsp;&nbsp;&nbsp;&nbsp;(Theta Policy)\n",
        "\t\n",
        "&nbsp;&nbsp;&nbsp;&nbsp;&nbsp;&nbsp;Push to left if the pole is tilted to the left, push to right if the pole is tilted to the right.\n",
        "\n",
        "The idea behind theta policy is to push the cart to the direction where the pole is tilted towards. For example, if the pole is tilted to the right, we can just push the cart to the right to compensate it. This is a simple and good idea, until we realize that in some scenarios, it does not work right:\n",
        "Imagine a scenario, where the pole is almost balance (say θ < 0.03), the pole is tilted to the right (θ>0) and the pole is currently moving anticlockwise (ω < 0) to compensate the action. Based on theta policy, we know we will push the cart to the right as θ>0. However, this would lead to the cart gaining much more anticlockwise angular acceleration it does not need, such that it overshoots past the center and tilt largely to the left.\n",
        "\n",
        "Hence, we use omega policy to compensate this situation. In omega policy, we try to slow down the angular velocity by looking at the velocity. For example, if velocity goes anticlockwise, we will push the cart to the left to compensate. As this policy monitors the velocity instead of angle, it corrects the pole as soon as it starts rotating. As a result, this policy can stop the pole from rotating. \n",
        "\n",
        "However, as the policy does not care about the angle, if the cart is tilted to one direction too much (say θ > 0.03), the cart will just move toward that direction horizontally until it moves too far away from the origin. For example, say the cart is tilted to the right at the start, then the pole will have the tendency to rotate clockwise. As soon as the pole rotate clockwise, the omega policy will stop the pole from rotating by pushing the cart to the right. However, the tendency of moving clockwise will still be there as the pole is still tilted to the right. Hence, the policy will keep pushing the cart to the right to stop the pole from rotating, and eventually, the cart will be pushed too far away from the origin, ending the episode.\n",
        "\n",
        "Hence, we should combine theta policy and omega policy together, such that whenever the angle of the pole is small (θ < 0.03), we will just use omega policy, but when the angle is too large (θ > 0.03) and the cart starts to move toward one directions horizontally, we will use theta policy to correct the angle such that the pole will not have any tendency to rotate clockwise or anticlockwise.\n",
        "\n",
        "Noted that 0.03 is just a threshold we pick for the policy. It is said that the threshold can be anywhere between 0.02 to 0.04.\n"
      ],
      "metadata": {
        "id": "xrBMcarkRkB7"
      }
    },
    {
      "cell_type": "markdown",
      "source": [
        "<h1><span style = 'color:red;'>Note: You have to restart the runtime before running the following section!</span></h1>"
      ],
      "metadata": {
        "id": "hPkp64qZuu_A"
      }
    },
    {
      "cell_type": "markdown",
      "source": [
        "## Proximal Policy Optimisation (PPO) Agent"
      ],
      "metadata": {
        "id": "RJQJjSoCnqpM"
      }
    },
    {
      "cell_type": "markdown",
      "source": [
        "For the second method, we will use a reinforcement learning algorithm named Proximal Policy Optimisation (PPO). In general, the environment, action space, observation space, and the maximum cumulative reward are the same as those in the Physics agent above."
      ],
      "metadata": {
        "id": "eFkMynGKTgLW"
      }
    },
    {
      "cell_type": "markdown",
      "source": [
        "## Installing Dependencies"
      ],
      "metadata": {
        "id": "3nLlLuQbnriw"
      }
    },
    {
      "cell_type": "markdown",
      "source": [
        "You may have to re-run the following code twice for the dependencies to install sucessfully."
      ],
      "metadata": {
        "id": "3zXJ9c7qZieC"
      }
    },
    {
      "cell_type": "code",
      "source": [
        "# May need to run twice\n",
        "!pip3 install setuptools==65.5.0\n",
        "!apt-get update && apt-get install ffmpeg freeglut3-dev xvfb  # For visualization\n",
        "!pip install stable-baselines3[extra] pyglet==1.5.27"
      ],
      "metadata": {
        "id": "N7AQRDXMYT9D",
        "colab": {
          "base_uri": "https://localhost:8080/"
        },
        "outputId": "b90f5aa8-90e8-461d-f54e-e3454c1690d2"
      },
      "execution_count": null,
      "outputs": [
        {
          "output_type": "stream",
          "name": "stdout",
          "text": [
            "Looking in indexes: https://pypi.org/simple, https://us-python.pkg.dev/colab-wheels/public/simple/\n",
            "Requirement already satisfied: setuptools==65.5.0 in /usr/local/lib/python3.9/dist-packages (65.5.0)\n",
            "Hit:1 http://archive.ubuntu.com/ubuntu focal InRelease\n",
            "Hit:2 http://archive.ubuntu.com/ubuntu focal-updates InRelease\n",
            "Hit:3 http://ppa.launchpad.net/c2d4u.team/c2d4u4.0+/ubuntu focal InRelease\n",
            "Hit:4 https://cloud.r-project.org/bin/linux/ubuntu focal-cran40/ InRelease\n",
            "Hit:5 http://archive.ubuntu.com/ubuntu focal-backports InRelease\n",
            "Hit:6 http://ppa.launchpad.net/cran/libgit2/ubuntu focal InRelease\n",
            "Hit:7 http://ppa.launchpad.net/deadsnakes/ppa/ubuntu focal InRelease\n",
            "Hit:8 http://ppa.launchpad.net/graphics-drivers/ppa/ubuntu focal InRelease\n",
            "Hit:9 https://developer.download.nvidia.com/compute/cuda/repos/ubuntu2004/x86_64  InRelease\n",
            "Hit:10 http://ppa.launchpad.net/ubuntugis/ppa/ubuntu focal InRelease\n",
            "Hit:11 http://security.ubuntu.com/ubuntu focal-security InRelease\n",
            "Reading package lists... Done\n",
            "Reading package lists... Done\n",
            "Building dependency tree       \n",
            "Reading state information... Done\n",
            "freeglut3-dev is already the newest version (2.8.1-3).\n",
            "ffmpeg is already the newest version (7:4.2.7-0ubuntu0.1).\n",
            "xvfb is already the newest version (2:1.20.13-1ubuntu1~20.04.6).\n",
            "0 upgraded, 0 newly installed, 0 to remove and 41 not upgraded.\n",
            "Looking in indexes: https://pypi.org/simple, https://us-python.pkg.dev/colab-wheels/public/simple/\n",
            "Requirement already satisfied: stable-baselines3[extra] in /usr/local/lib/python3.9/dist-packages (1.7.0)\n",
            "Requirement already satisfied: pyglet==1.5.27 in /usr/local/lib/python3.9/dist-packages (1.5.27)\n",
            "Requirement already satisfied: numpy in /usr/local/lib/python3.9/dist-packages (from stable-baselines3[extra]) (1.22.4)\n",
            "Requirement already satisfied: matplotlib in /usr/local/lib/python3.9/dist-packages (from stable-baselines3[extra]) (3.7.1)\n",
            "Requirement already satisfied: cloudpickle in /usr/local/lib/python3.9/dist-packages (from stable-baselines3[extra]) (2.2.1)\n",
            "Requirement already satisfied: pandas in /usr/local/lib/python3.9/dist-packages (from stable-baselines3[extra]) (1.4.4)\n",
            "Requirement already satisfied: torch>=1.11 in /usr/local/lib/python3.9/dist-packages (from stable-baselines3[extra]) (1.13.1+cu116)\n",
            "Requirement already satisfied: gym==0.21 in /usr/local/lib/python3.9/dist-packages (from stable-baselines3[extra]) (0.21.0)\n",
            "Requirement already satisfied: importlib-metadata~=4.13 in /usr/local/lib/python3.9/dist-packages (from stable-baselines3[extra]) (4.13.0)\n",
            "Requirement already satisfied: ale-py==0.7.4 in /usr/local/lib/python3.9/dist-packages (from stable-baselines3[extra]) (0.7.4)\n",
            "Requirement already satisfied: tqdm in /usr/local/lib/python3.9/dist-packages (from stable-baselines3[extra]) (4.65.0)\n",
            "Requirement already satisfied: opencv-python in /usr/local/lib/python3.9/dist-packages (from stable-baselines3[extra]) (4.7.0.72)\n",
            "Requirement already satisfied: rich in /usr/local/lib/python3.9/dist-packages (from stable-baselines3[extra]) (13.3.2)\n",
            "Requirement already satisfied: tensorboard>=2.9.1 in /usr/local/lib/python3.9/dist-packages (from stable-baselines3[extra]) (2.11.2)\n",
            "Requirement already satisfied: pillow in /usr/local/lib/python3.9/dist-packages (from stable-baselines3[extra]) (8.4.0)\n",
            "Requirement already satisfied: autorom[accept-rom-license]~=0.4.2 in /usr/local/lib/python3.9/dist-packages (from stable-baselines3[extra]) (0.4.2)\n",
            "Requirement already satisfied: psutil in /usr/local/lib/python3.9/dist-packages (from stable-baselines3[extra]) (5.9.4)\n",
            "Requirement already satisfied: importlib-resources in /usr/local/lib/python3.9/dist-packages (from ale-py==0.7.4->stable-baselines3[extra]) (5.12.0)\n",
            "Requirement already satisfied: click in /usr/local/lib/python3.9/dist-packages (from autorom[accept-rom-license]~=0.4.2->stable-baselines3[extra]) (8.1.3)\n",
            "Requirement already satisfied: requests in /usr/local/lib/python3.9/dist-packages (from autorom[accept-rom-license]~=0.4.2->stable-baselines3[extra]) (2.27.1)\n",
            "Requirement already satisfied: AutoROM.accept-rom-license in /usr/local/lib/python3.9/dist-packages (from autorom[accept-rom-license]~=0.4.2->stable-baselines3[extra]) (0.6.0)\n",
            "Requirement already satisfied: zipp>=0.5 in /usr/local/lib/python3.9/dist-packages (from importlib-metadata~=4.13->stable-baselines3[extra]) (3.15.0)\n",
            "Requirement already satisfied: protobuf<4,>=3.9.2 in /usr/local/lib/python3.9/dist-packages (from tensorboard>=2.9.1->stable-baselines3[extra]) (3.19.6)\n",
            "Requirement already satisfied: tensorboard-plugin-wit>=1.6.0 in /usr/local/lib/python3.9/dist-packages (from tensorboard>=2.9.1->stable-baselines3[extra]) (1.8.1)\n",
            "Requirement already satisfied: tensorboard-data-server<0.7.0,>=0.6.0 in /usr/local/lib/python3.9/dist-packages (from tensorboard>=2.9.1->stable-baselines3[extra]) (0.6.1)\n",
            "Requirement already satisfied: setuptools>=41.0.0 in /usr/local/lib/python3.9/dist-packages (from tensorboard>=2.9.1->stable-baselines3[extra]) (65.5.0)\n",
            "Requirement already satisfied: wheel>=0.26 in /usr/local/lib/python3.9/dist-packages (from tensorboard>=2.9.1->stable-baselines3[extra]) (0.40.0)\n",
            "Requirement already satisfied: absl-py>=0.4 in /usr/local/lib/python3.9/dist-packages (from tensorboard>=2.9.1->stable-baselines3[extra]) (1.4.0)\n",
            "Requirement already satisfied: werkzeug>=1.0.1 in /usr/local/lib/python3.9/dist-packages (from tensorboard>=2.9.1->stable-baselines3[extra]) (2.2.3)\n",
            "Requirement already satisfied: grpcio>=1.24.3 in /usr/local/lib/python3.9/dist-packages (from tensorboard>=2.9.1->stable-baselines3[extra]) (1.51.3)\n",
            "Requirement already satisfied: google-auth<3,>=1.6.3 in /usr/local/lib/python3.9/dist-packages (from tensorboard>=2.9.1->stable-baselines3[extra]) (2.16.2)\n",
            "Requirement already satisfied: google-auth-oauthlib<0.5,>=0.4.1 in /usr/local/lib/python3.9/dist-packages (from tensorboard>=2.9.1->stable-baselines3[extra]) (0.4.6)\n",
            "Requirement already satisfied: markdown>=2.6.8 in /usr/local/lib/python3.9/dist-packages (from tensorboard>=2.9.1->stable-baselines3[extra]) (3.4.1)\n",
            "Requirement already satisfied: typing-extensions in /usr/local/lib/python3.9/dist-packages (from torch>=1.11->stable-baselines3[extra]) (4.5.0)\n",
            "Requirement already satisfied: kiwisolver>=1.0.1 in /usr/local/lib/python3.9/dist-packages (from matplotlib->stable-baselines3[extra]) (1.4.4)\n",
            "Requirement already satisfied: cycler>=0.10 in /usr/local/lib/python3.9/dist-packages (from matplotlib->stable-baselines3[extra]) (0.11.0)\n",
            "Requirement already satisfied: python-dateutil>=2.7 in /usr/local/lib/python3.9/dist-packages (from matplotlib->stable-baselines3[extra]) (2.8.2)\n",
            "Requirement already satisfied: packaging>=20.0 in /usr/local/lib/python3.9/dist-packages (from matplotlib->stable-baselines3[extra]) (23.0)\n",
            "Requirement already satisfied: fonttools>=4.22.0 in /usr/local/lib/python3.9/dist-packages (from matplotlib->stable-baselines3[extra]) (4.39.2)\n",
            "Requirement already satisfied: pyparsing>=2.3.1 in /usr/local/lib/python3.9/dist-packages (from matplotlib->stable-baselines3[extra]) (3.0.9)\n",
            "Requirement already satisfied: contourpy>=1.0.1 in /usr/local/lib/python3.9/dist-packages (from matplotlib->stable-baselines3[extra]) (1.0.7)\n",
            "Requirement already satisfied: pytz>=2020.1 in /usr/local/lib/python3.9/dist-packages (from pandas->stable-baselines3[extra]) (2022.7.1)\n",
            "Requirement already satisfied: pygments<3.0.0,>=2.13.0 in /usr/local/lib/python3.9/dist-packages (from rich->stable-baselines3[extra]) (2.14.0)\n",
            "Requirement already satisfied: markdown-it-py<3.0.0,>=2.2.0 in /usr/local/lib/python3.9/dist-packages (from rich->stable-baselines3[extra]) (2.2.0)\n",
            "Requirement already satisfied: rsa<5,>=3.1.4 in /usr/local/lib/python3.9/dist-packages (from google-auth<3,>=1.6.3->tensorboard>=2.9.1->stable-baselines3[extra]) (4.9)\n",
            "Requirement already satisfied: cachetools<6.0,>=2.0.0 in /usr/local/lib/python3.9/dist-packages (from google-auth<3,>=1.6.3->tensorboard>=2.9.1->stable-baselines3[extra]) (5.3.0)\n",
            "Requirement already satisfied: pyasn1-modules>=0.2.1 in /usr/local/lib/python3.9/dist-packages (from google-auth<3,>=1.6.3->tensorboard>=2.9.1->stable-baselines3[extra]) (0.2.8)\n",
            "Requirement already satisfied: six>=1.9.0 in /usr/local/lib/python3.9/dist-packages (from google-auth<3,>=1.6.3->tensorboard>=2.9.1->stable-baselines3[extra]) (1.16.0)\n",
            "Requirement already satisfied: requests-oauthlib>=0.7.0 in /usr/local/lib/python3.9/dist-packages (from google-auth-oauthlib<0.5,>=0.4.1->tensorboard>=2.9.1->stable-baselines3[extra]) (1.3.1)\n",
            "Requirement already satisfied: mdurl~=0.1 in /usr/local/lib/python3.9/dist-packages (from markdown-it-py<3.0.0,>=2.2.0->rich->stable-baselines3[extra]) (0.1.2)\n",
            "Requirement already satisfied: certifi>=2017.4.17 in /usr/local/lib/python3.9/dist-packages (from requests->autorom[accept-rom-license]~=0.4.2->stable-baselines3[extra]) (2022.12.7)\n",
            "Requirement already satisfied: charset-normalizer~=2.0.0 in /usr/local/lib/python3.9/dist-packages (from requests->autorom[accept-rom-license]~=0.4.2->stable-baselines3[extra]) (2.0.12)\n",
            "Requirement already satisfied: idna<4,>=2.5 in /usr/local/lib/python3.9/dist-packages (from requests->autorom[accept-rom-license]~=0.4.2->stable-baselines3[extra]) (3.4)\n",
            "Requirement already satisfied: urllib3<1.27,>=1.21.1 in /usr/local/lib/python3.9/dist-packages (from requests->autorom[accept-rom-license]~=0.4.2->stable-baselines3[extra]) (1.26.15)\n",
            "Requirement already satisfied: MarkupSafe>=2.1.1 in /usr/local/lib/python3.9/dist-packages (from werkzeug>=1.0.1->tensorboard>=2.9.1->stable-baselines3[extra]) (2.1.2)\n",
            "Requirement already satisfied: libtorrent in /usr/local/lib/python3.9/dist-packages (from AutoROM.accept-rom-license->autorom[accept-rom-license]~=0.4.2->stable-baselines3[extra]) (2.0.7)\n",
            "Requirement already satisfied: pyasn1<0.5.0,>=0.4.6 in /usr/local/lib/python3.9/dist-packages (from pyasn1-modules>=0.2.1->google-auth<3,>=1.6.3->tensorboard>=2.9.1->stable-baselines3[extra]) (0.4.8)\n",
            "Requirement already satisfied: oauthlib>=3.0.0 in /usr/local/lib/python3.9/dist-packages (from requests-oauthlib>=0.7.0->google-auth-oauthlib<0.5,>=0.4.1->tensorboard>=2.9.1->stable-baselines3[extra]) (3.2.2)\n"
          ]
        }
      ]
    },
    {
      "cell_type": "code",
      "source": [
        "import stable_baselines3\n",
        "stable_baselines3.__version__"
      ],
      "metadata": {
        "colab": {
          "base_uri": "https://localhost:8080/",
          "height": 36
        },
        "id": "mi_gmJ--bKhl",
        "outputId": "3b39b28b-ba8e-4da5-8d5e-663c89965fa1"
      },
      "execution_count": null,
      "outputs": [
        {
          "output_type": "execute_result",
          "data": {
            "text/plain": [
              "'1.7.0'"
            ],
            "application/vnd.google.colaboratory.intrinsic+json": {
              "type": "string"
            }
          },
          "metadata": {},
          "execution_count": 2
        }
      ]
    },
    {
      "cell_type": "markdown",
      "source": [
        "## Training RL Agent"
      ],
      "metadata": {
        "id": "O2NJLVDEd565"
      }
    },
    {
      "cell_type": "markdown",
      "source": [
        "To develop the model, either run the training step below to train a new PPO agent or upload the trained model to this notebook in Google Collab."
      ],
      "metadata": {
        "id": "XyvIv1LODh08"
      }
    },
    {
      "cell_type": "markdown",
      "source": [
        "#### Train the PPO agent from stratch"
      ],
      "metadata": {
        "id": "54HplUO4EBeS"
      }
    },
    {
      "cell_type": "markdown",
      "source": [
        "Uncomment the following code if you want to train a new PPO agent."
      ],
      "metadata": {
        "id": "GYlTl3kGNbSx"
      }
    },
    {
      "cell_type": "code",
      "source": [
        "\"\"\"\n",
        "import gym \n",
        "from stable_baselines3 import PPO\n",
        "from stable_baselines3.common.vec_env import DummyVecEnv\n",
        "from stable_baselines3.common.evaluation import evaluate_policy\n",
        "\n",
        "environment_name = \"CartPole-v1\"\n",
        "\n",
        "env = gym.make(environment_name)\n",
        "env = DummyVecEnv([lambda: env])\n",
        "model = PPO('MlpPolicy', env, verbose = 1)\n",
        "\n",
        "model.learn(total_timesteps=100000)\n",
        "\n",
        "import os\n",
        "PPO_path = os.path.join('PPO_model_HT')\n",
        "model.save(PPO_path)\n",
        "\"\"\""
      ],
      "metadata": {
        "id": "xM2XMzODYbGb",
        "colab": {
          "base_uri": "https://localhost:8080/"
        },
        "outputId": "eb2284da-faa9-4de2-807e-684f589eda8c"
      },
      "execution_count": null,
      "outputs": [
        {
          "output_type": "stream",
          "name": "stdout",
          "text": [
            "Using cpu device\n"
          ]
        }
      ]
    },
    {
      "cell_type": "markdown",
      "source": [
        "For this implementation, we will be using PPO algorithms and policy evaluation methods from stable baselines 3 library. In particular, we will use MLP policy which incorporates the actor-critic method. [[11]](#reference)\n",
        "\n",
        "Parameters:\n",
        "- policy = 'MlpPolicy' is the policy used in actor-critic algorithms.\n",
        "- verbose = 1 means info messages are printed for each episode.\n",
        "- total_timesteps = 100000 means the PPO agent will be trained up to or once 100000 timesteps have been exceeded.\n",
        "\n",
        "Default values: \n",
        "- learning rate = 0.00003\n",
        "- number of steps to run for each environment for every update = 2048\n",
        "- minibatch size = 64\n",
        "- number of epoch during the optimisation of objective function loss = 10\n",
        "- discount factor, γ = 0.99\n",
        "- clip range, ϵ = 0.2"
      ],
      "metadata": {
        "id": "MRJr0tXoT0j5"
      }
    },
    {
      "cell_type": "markdown",
      "source": [
        "#### Load the PPO agent"
      ],
      "metadata": {
        "id": "Fjn4e67rD3j9"
      }
    },
    {
      "cell_type": "markdown",
      "source": [
        "Steps to upload the trained model onto Google Collab:\n",
        "\n",
        "1) Open the 'Files' section on the left column.\n",
        "\n",
        "2) Drag the zip file named 'PPO_model_HT' onto the 'Files section'. Alternatively, click the upload button to upload the zip file.\n",
        "\n",
        "3) After the file has been uploaded, you can proceed with the following code to load the model."
      ],
      "metadata": {
        "id": "pafuU98BNlLS"
      }
    },
    {
      "cell_type": "code",
      "source": [
        "import gym \n",
        "import os\n",
        "from stable_baselines3 import PPO\n",
        "from stable_baselines3.common.vec_env import DummyVecEnv\n",
        "from stable_baselines3.common.evaluation import evaluate_policy\n",
        "\n",
        "model_path = os.path.join('PPO_model_HT')\n",
        "env = gym.make(\"CartPole-v1\")\n",
        "env = DummyVecEnv([lambda: env])\n",
        "model = PPO.load(model_path, env=env)"
      ],
      "metadata": {
        "id": "FLZhx5c94Gwk"
      },
      "execution_count": null,
      "outputs": []
    },
    {
      "cell_type": "code",
      "source": [
        "from stable_baselines3.common.evaluation import evaluate_policy\n",
        "evaluate_policy(model, env, n_eval_episodes=10, render=False)"
      ],
      "metadata": {
        "colab": {
          "base_uri": "https://localhost:8080/"
        },
        "id": "pghoJvUhY8I_",
        "outputId": "2d4800a2-eaba-42cf-cb75-379658eef0c3"
      },
      "execution_count": null,
      "outputs": [
        {
          "output_type": "stream",
          "name": "stderr",
          "text": [
            "/usr/local/lib/python3.9/dist-packages/stable_baselines3/common/evaluation.py:67: UserWarning: Evaluation environment is not wrapped with a ``Monitor`` wrapper. This may result in reporting modified episode lengths and rewards, if other wrappers happen to modify these. Consider wrapping environment first with ``Monitor`` wrapper.\n",
            "  warnings.warn(\n"
          ]
        },
        {
          "output_type": "execute_result",
          "data": {
            "text/plain": [
              "(500.0, 0.0)"
            ]
          },
          "metadata": {},
          "execution_count": 4
        }
      ]
    },
    {
      "cell_type": "markdown",
      "source": [
        "### Task 1: Development of an RL agent"
      ],
      "metadata": {
        "id": "nsXMTN_YgxAq"
      }
    },
    {
      "cell_type": "code",
      "source": [
        "env = gym.make(\"CartPole-v1\")\n",
        "env = DummyVecEnv([lambda: env])\n",
        "obs = env.reset()\n",
        "action, _states = model.predict(obs)\n",
        "print(\"Observation:\", obs)\n",
        "print(\"Action:\",action)"
      ],
      "metadata": {
        "colab": {
          "base_uri": "https://localhost:8080/"
        },
        "id": "4-P9mdGRgIDz",
        "outputId": "8000e6e4-6265-40bd-adc4-a8ea830b5f23"
      },
      "execution_count": null,
      "outputs": [
        {
          "output_type": "stream",
          "name": "stdout",
          "text": [
            "Observation: [[-0.00255051 -0.00445799  0.03204943  0.00305235]]\n",
            "Action: [1]\n"
          ]
        }
      ]
    },
    {
      "cell_type": "markdown",
      "source": [
        "### Task 2: Demonstrate the effectiveness of the RL agent"
      ],
      "metadata": {
        "id": "YieJm_CEhIn-"
      }
    },
    {
      "cell_type": "code",
      "source": [
        "def plot_policy(final_rewards, policy_name:str=''):\n",
        "    import matplotlib\n",
        "    import matplotlib.pyplot as plt\n",
        "    import numpy as np\n",
        "    print(len(final_rewards))\n",
        "    fig = plt.plot(range(len(final_rewards)), final_rewards)\n",
        "    plt.grid()\n",
        "    plt.title(policy_name + \" Mean Reward {:.2f}, Std Reward {:.2f}\".format(np.mean(final_rewards), np.std(final_rewards)))\n",
        "    plt.ylabel('Cum Reward')\n",
        "    plt.xlabel('Iteration')\n",
        "    plt.ylim(0, max(final_rewards)*1.1)\n",
        "    return fig"
      ],
      "metadata": {
        "id": "cKxqQvgWmcZq"
      },
      "execution_count": null,
      "outputs": []
    },
    {
      "cell_type": "code",
      "source": [
        "from stable_baselines3.common.evaluation import evaluate_policy\n",
        "final_rewards_float,final_rewards_int = evaluate_policy(model, env, n_eval_episodes=100, render=False, return_episode_rewards = True)"
      ],
      "metadata": {
        "id": "qHcp-5ROkky-"
      },
      "execution_count": null,
      "outputs": []
    },
    {
      "cell_type": "code",
      "source": [
        "pt = plot_policy(final_rewards_float, \"PPO Policy\")"
      ],
      "metadata": {
        "colab": {
          "base_uri": "https://localhost:8080/",
          "height": 312
        },
        "id": "b0iFlWCVk_oB",
        "outputId": "c875ff53-7d2d-412e-a716-5994a4b5a2bf"
      },
      "execution_count": null,
      "outputs": [
        {
          "output_type": "stream",
          "name": "stdout",
          "text": [
            "100\n"
          ]
        },
        {
          "output_type": "display_data",
          "data": {
            "text/plain": [
              "<Figure size 432x288 with 1 Axes>"
            ],
            "image/png": "[encoded data removed]"
          },
          "metadata": {
            "needs_background": "light"
          }
        }
      ]
    },
    {
      "cell_type": "code",
      "source": [
        "def average(lst):\n",
        "    return sum(lst) / len(lst)"
      ],
      "metadata": {
        "id": "qzAYxHJwSw7m"
      },
      "execution_count": null,
      "outputs": []
    },
    {
      "cell_type": "code",
      "source": [
        "print(\"Average cumulative reward:\", average(final_rewards_float))\n",
        "print(\"Is my agent good enough?\", average(final_rewards_float) > 195)"
      ],
      "metadata": {
        "colab": {
          "base_uri": "https://localhost:8080/"
        },
        "id": "3c0yuvpwSZxE",
        "outputId": "f464b3a6-a673-4278-c76d-cf771fac10ae"
      },
      "execution_count": null,
      "outputs": [
        {
          "output_type": "stream",
          "name": "stdout",
          "text": [
            "Average cumulative reward: 500.0\n",
            "Is my agent good enough? True\n"
          ]
        }
      ]
    },
    {
      "cell_type": "markdown",
      "source": [
        "We can see that the PPO agent performs very well on average with a mean reward of 500."
      ],
      "metadata": {
        "id": "ile_18YDUF0a"
      }
    },
    {
      "cell_type": "markdown",
      "source": [
        "### Task 3: Render one episode played by the agent"
      ],
      "metadata": {
        "id": "uiiMvVpch5X-"
      }
    },
    {
      "cell_type": "markdown",
      "source": [
        "The following code is written based on [[2]](#reference)."
      ],
      "metadata": {
        "id": "SGbuT5AhzyhM"
      }
    },
    {
      "cell_type": "code",
      "source": [
        "# Set up fake display; otherwise rendering will fail\n",
        "import os\n",
        "os.system(\"Xvfb :1 -screen 0 1024x768x24 &\")\n",
        "os.environ['DISPLAY'] = ':1'"
      ],
      "metadata": {
        "id": "CLOUKgF6fuKU"
      },
      "execution_count": null,
      "outputs": []
    },
    {
      "cell_type": "code",
      "source": [
        "import base64\n",
        "from pathlib import Path\n",
        "\n",
        "from IPython import display as ipythondisplay\n",
        "\n",
        "\n",
        "def show_videos(video_path='', prefix=''):\n",
        "  \"\"\"\n",
        "  Taken from https://github.com/eleurent/highway-env\n",
        "\n",
        "  :param video_path: (str) Path to the folder containing videos\n",
        "  :param prefix: (str) Filter the video, showing only the only starting with this prefix\n",
        "  \"\"\"\n",
        "  html = []\n",
        "  for mp4 in Path(video_path).glob(\"{}*.mp4\".format(prefix)):\n",
        "      video_b64 = base64.b64encode(mp4.read_bytes())\n",
        "      html.append('''<video alt=\"{}\" autoplay \n",
        "                    loop controls style=\"height: 400px;\">\n",
        "                    <source src=\"data:video/mp4;base64,{}\" type=\"video/mp4\" />\n",
        "                </video>'''.format(mp4, video_b64.decode('ascii')))\n",
        "  ipythondisplay.display(ipythondisplay.HTML(data=\"<br>\".join(html)))"
      ],
      "metadata": {
        "id": "0PUdta_jiV5I"
      },
      "execution_count": null,
      "outputs": []
    },
    {
      "cell_type": "code",
      "source": [
        "from stable_baselines3.common.vec_env import VecVideoRecorder, DummyVecEnv\n",
        "\n",
        "\n",
        "def record_video(env_id, model, video_length=500, prefix='', video_folder='video/'):\n",
        "  \"\"\"\n",
        "  :param env_id: (str)\n",
        "  :param model: (RL model)\n",
        "  :param video_length: (int)\n",
        "  :param prefix: (str)\n",
        "  :param video_folder: (str)\n",
        "  \"\"\"\n",
        "  eval_env = DummyVecEnv([lambda: gym.make('CartPole-v1')])\n",
        "  # Start the video at step=0 and record 500 steps\n",
        "  eval_env = VecVideoRecorder(eval_env, video_folder=video_folder,\n",
        "                              record_video_trigger=lambda step: step == 0, video_length=video_length,\n",
        "                              name_prefix=prefix)\n",
        "\n",
        "  obs = eval_env.reset()\n",
        "  for _ in range(video_length):\n",
        "    action, _ = model.predict(obs)\n",
        "    obs, _, _, _ = eval_env.step(action)\n",
        "\n",
        "  # Close the video recorder\n",
        "  eval_env.close()"
      ],
      "metadata": {
        "id": "ZPsuK4boiXhd"
      },
      "execution_count": null,
      "outputs": []
    },
    {
      "cell_type": "code",
      "source": [
        "record_video('CartPole-v1', model, video_length=500, prefix='ppo-cartpole')"
      ],
      "metadata": {
        "colab": {
          "base_uri": "https://localhost:8080/"
        },
        "id": "ZsUw02DziYLW",
        "outputId": "95e0e6e2-9337-45ce-c90f-15c713babf15"
      },
      "execution_count": null,
      "outputs": [
        {
          "output_type": "stream",
          "name": "stdout",
          "text": [
            "Saving video to /content/video/ppo-cartpole-step-0-to-step-500.mp4\n"
          ]
        }
      ]
    },
    {
      "cell_type": "code",
      "source": [
        "show_videos('video', prefix='ppo')"
      ],
      "metadata": {
        "colab": {
          "base_uri": "https://localhost:8080/",
          "height": 422
        },
        "id": "5upqK7UlicVN",
        "outputId": "c18465ed-0cb5-4cd4-a42c-2197af662b95"
      },
      "execution_count": null,
      "outputs": [
        {
          "output_type": "display_data",
          "data": {
            "text/plain": [
              "<IPython.core.display.HTML object>"
            ],
            "text/html": [
              "<video alt=\"video/ppo-cartpole-step-0-to-step-500.mp4\" autoplay \n",
              "                    loop controls style=\"height: 400px;\">\n",
              "                    <source src=\"data:video/mp4;base64,AAAAIGZ0eXBpc29tAAACAGlzb21pc28yYXZjMW1wNDEAAAAIZnJlZQAAafptZGF0AAACrgYF//+q3EXpvebZSLeWLNgg2SPu73gyNjQgLSBjb3JlIDE1NSByMjkxNyAwYTg0ZDk4IC0gSC4yNjQvTVBFRy00IEFWQyBjb2RlYyAtIENvcHlsZWZ0IDIwMDMtMjAxOCAtIGh0dHA6Ly93d3cudmlkZW9sYW4ub3JnL3gyNjQuaHRtbCAtIG9wdGlvbnM6IGNhYmFjPTEgcmVmPTMgZGVibG9jaz0xOjA6MCBhbmFseXNlPTB4MzoweDExMyBtZT1oZXggc3VibWU9NyBwc3k9MSBwc3lfcmQ9MS4wMDowLjAwIG1peGVkX3JlZj0xIG1lX3JhbmdlPTE2IGNocm9tYV9tZT0xIHRyZWxsaXM9MSA4eDhkY3Q9MSBjcW09MCBkZWFkem9uZT0yMSwxMSBmYXN0X3Bza2lwPTEgY2hyb21hX3FwX29mZnNldD0tMiB0aHJlYWRzPTMgbG9va2FoZWFkX3RocmVhZHM9MSBzbGljZWRfdGhyZWFkcz0wIG5yPTAgZGVjaW1hdGU9MSBpbnRlcmxhY2VkPTAgYmx1cmF5X2NvbXBhdD0wIGNvbnN0cmFpbmVkX2ludHJhPTAgYmZyYW1lcz0zIGJfcHlyYW1pZD0yIGJfYWRhcHQ9MSBiX2JpYXM9MCBkaXJlY3Q9MSB3ZWlnaHRiPTEgb3Blbl9nb3A9MCB3ZWlnaHRwPTIga2V5aW50PTI1MCBrZXlpbnRfbWluPTI1IHNjZW5lY3V0PTQwIGludHJhX3JlZnJlc2g9MCByY19sb29rYWhlYWQ9NDAgcmM9Y3JmIG1idHJlZT0xIGNyZj0yMy4wIHFjb21wPTAuNjAgcXBtaW49MCBxcG1heD02OSBxcHN0ZXA9NCBpcF9yYXRpbz0xLjQwIGFxPTE6MS4wMACAAAACDWWIhAAv//72rvzLK0cLlS4dWXuzUfLoSXL9iDB9aAAAAwAAAwAAJuKiZ0WFMeJsgAAALmAIWElDyDzETFWKgS2k3gc8QCegt4vs8WNbU5dqskvGFrkbKbh5GcGnyxu3+rJDWW1KAfNMhosuVEvoeF04itYCoIXXNTiQPK7l1t4GJugv2+L7Km1GnRqGnbFv+S+NvtA+Oovmo0GcYiwsaVFWShL/JygKDR+FFlEo9HezK/bSmDF0qu8eztlsVAGVmKaHIBZLI76U3DxyQ2NxK8b9blXs4j63XoRhS94zz6igM31AlEbSMTLYQqU1LsNh0DK2rUQRQwgDV076mbUYvPjyVGKXeaQwDA4uOtQwa5Tv0jXBrqTdnZcPTQJ+fecKKXQUCXDwji70o+RiHPdPilWkgPBgY/EMjoQkZCtL8xxgLODI1Z6G3uw3f33XtdZDmfUGCbRwBTsv+2uX4mgI70yLxYp7xmilu0loBBuARxVFJSz83BWrddGh3E3YJsxof6Xyqjxzbox0Ex0QDtxueAECsqbgjGYyXekL5+mE/82Mod9YABneTBHIQ60uP3LaAXKY3Zbtom/YHKpOegc2XZ7u6WMfI0ZUV7JwI7PByxWZF8Vy6X2qZEfwZ0kN42fE67+hBULEQL833TOnzFk6J0odxiorMUbT2afX7gMCvNR4Hk9IsAAAAwAAAwABbwAAAKdBmiRsQv/+jLAAAEgSqcFfzcGhL4W7asPTcR330rcYhkVHjffnDajHu6pkqNSxLqMewN8oWCBp6kX6pIDkEKjdgwXA2N2GEpElDZHy5AcCmGiH5lzgCeSFYZIo3u50vGTtK4KO7wDyZgTTH2N9xd5+B9wNuxeJwseKJhYoqreB+ijFkAMJG1iO60EAAAMABE2ssA7Yk7ZE98JSZ1jtU0JsbR9++cgGaAAAADtBnkJ4hH8AAAikTFvuvAFWsLyAXDRVAe3oNMecqTZj+mjvg0/CEsfMtCQqitBl3wAAAwAj/q+CVQD8gQAAAEMBnmF0R/8AACS4wFl9QSIL7e4TEnyq4HYjNTuwcAD0bfsDVWWB0Ki/BWY2ggBr29eH6YU1oAAAAwAAAwLEJqP1AK+AAAAALwGeY2pH/wAAI7I8uKdxmdTUUNTxEbVk/7ygU0OCEGEDafJVwAAAAwAAHrq0qgHzAAAAZEGaZkmoQWiZTBTwz/6eEAAARWVB1qAFspVKgT+VK+vUbQISKEoN/YE/mqkMHlcqOTEpyIoDntfmoxT1Gke2dhDOLmSR1GYu4Id3zoaW+sJCubV64bwAXzqHkezcyl57stKzqjcAAAA2AZ6Fakf/AAAjvx+GYsNS1RgAvKv4B2lu/q5QfM1C33naF+xF+lHI9kC9ALza1nracMh7jT5hAAAAhEGaiknhClJlMCGf/p4QAABHTlZ5XuLAF9XK7yjxs4Ih7kBAyT1cQFsJjTAZKdo+IFsNv1FZ/s2Ea9GN4eANDVNUb9oucz1q0zxdT1X1N4smWfUGlNePaMKkjA86kFmS0z4qe+Vlr3iiXvONuAKC0Yx74dnkWpDxHv0DocRId4lg70Qi4wAAACdBnqhFNEwj/wAAF0UrQ6CntYjlwtVdwR4+GjjqmQQAVzf0Lt+0T3AAAAAgAZ7HdEf/AAAkq/hn9QGPTMABjRXyAUwvl4/MwcxRyoAAAAAuAZ7Jakf/AAADAL9JUs9xJabe6Z8eUsJLgAtmMBQuVbxhauSKYlncLYi/tE8OpQAAAF9Bms5JqEFomUwIX//+jLAAAEYlwXggnFJ4AEN32WSzigJGtmuXslgu3A81M+cW3WUrbclRrqDu6+wo/7jPERzacceBdGxbYzGe03jb9WcYIUObNhapWQ0ZHarplnye4AAAADxBnuxFESwj/wAAFrVfTFlcUArXK4WkrHVMErqkc/gBe6LwGMZK7QMIOOo4enfsHvZ57JsvhdYBN8o+lxAAAAAeAZ8LdEf/AAAjrD5+OI+kvK2LvE7kVk530/wKspxZAAAAHgGfDWpH/wAADcdR+sy735vckauapAEqd2IbGgxLwQAAAGZBmxJJqEFsmUwIX//+jLAAAEgC094CJDxILdOaJ2Y1gkalFkOZA4oARq2uE+kOmpjDDF65LHVylcxWQ1UiKD1/T7U55XUBQf7fVli1szc/1hKN2560reW5OlOfW0GX23i0I7dgZGkAAABIQZ8wRRUsI/8AABc9WEvwBCD7/IMJgFiaMHFKREP7lbG5SdyH6DjGwntYCzmX8AhGvjATSfJC7nyfT4WnzwtLEWx9RxNZra/wAAAAMgGfT3RH/wAAJNUhACw26GZVcq+2Y8OFaUGlu8L3Zi1QmQf4QHYs67mndnpWH8Xs1TUgAAAAHQGfUWpH/wAAJLHMK/l31mI/k0yza90+zOVc5HZ9AAAASUGbVEmoQWyZTBRMM//+nhAAAApCHfnwylfH+UpzDXOf0Lm+ocXUAQeZ3rDBXDsVT0X+L2ZajHz1v9YR8HoSM69Zc5Cy3B8VM4AAAAAjAZ9zakf/AAAFRIDpulRsOEIlo5+ruycFY7qOaST06F3ayoAAAABZQZt4SeEKUmUwIZ/+nhAAAEWC2BdeAEdlmbt3rlLYWm4Ah6a4SSsWWL3exSOIrip4jwh946A7ciHTH3cTRf7fDzt59pmff/tdLB+sJOBGhpbIvm5V0bGQH5EAAABMQZ+WRTRMI/8AABa1XCGYs+HXM77MnzFMCDAZERg8AHFYikbqQXRlwvePQaTRTU0J4/fvs0WRoYWt9x/3GMk7gQFbXOPVb4tUEE19MAAAACYBn7V0R/8AACPDQmoh3lh+Y34flHmF+h+40qZWRWnkG42nsHk1IQAAAB8Bn7dqR/8AAAVDqkbWiq50DTrz8WdjiaA2tk23DyBBAAAAhUGbvEmoQWiZTAhn//6eEAAAR0Z7oADovUG2be8y9TThRfy9LEcT4pVD3xBhV5pkGT62eAicfqSKMdTMNtdxvJB48HEN0wEt8bJQu0L8EpaEEPEvB6wjq603lCX7UfUg289KakDzlOZ+IKOcHp3PNZPrQB8fSkVO875nxt3YjjZZCW7OqoAAAABSQZ/aRREsI/8AABdLk2c6T/24ABtyNM2JgEeyhhDnZptei6oea5TJ7sXaKmQD2lL76ENBH5SQvX2AN1w3J7RhPvrO921ay2hwXnihRfNevdr5gQAAACcBn/l0R/8AACTDF3RQRCNfQchjJ9ADtvOqCbgLBKm+buuRq7jQJOAAAAA1AZ/7akf/AAAkvwQnZtHw3oo2ZNmV4GlyGMkfgCABtACoBwyJw2jXmBo33fxvKz5IVgD1dMEAAABbQZvgSahBbJlMCGf//p4QAABHUfX1cYgwtmWTM1AtNZ/QBZHQz03FkQQMZbF5487TjCqG29dmdoG7SAoA/+aKpLhbTI4T8SwHr/rCUcSPBoLax740ApCeUEWdVQAAAClBnh5FFSwj/wAAF0xOi7gjF16cpCZY9xvnEXvW3mkSdmei1wCu4TdiPgAAACQBnj10R/8AACS4r97ifspxO4mVBxLa3fD4JrHf3wsXTiQVR8AAAAArAZ4/akf/AAAkscwJhj74S57Gm3kjb79eIB/kwAAIew99a0OlPQdYU2U4OQAAAGBBmiRJqEFsmUwIZ//+nhAAAEVlYdIWdV37QANjC/Hh+MC5F8XsR5opMtaUw/mX+2T0cc7WCpPQBrvx6B83jXGEeOPY+XhC5OJiyiSlDZ3hL1hJ85cDUpSyYuQGOdOGCTAAAAAxQZ5CRRUsI/8AABa1Xz9KsyUa0SyZVZk5ze8m7EXSTPFnGoCG7+AkgZn7hZHtRJ4+mQAAADUBnmF0R/8AACOsQlcKYUiXpxh1TyqyHYJVZ3NC5ARYMADaAFQEHgJ7RGtKeFh+CcyJhof7/AAAADgBnmNqR/8AAA3ViI2tFVy/BWeo1nW+fx/lkdp60aHmsxaC2+ACWRCGozASqBS5cu8xLxxPlznQiwAAAFVBmmhJqEFsmUwIZ//+nhAAAEVJgNgA6BoyX4Vc9H8wbVH2e3/V9jQ0ylGCZ1f18m0POlRQGIqBQKqtbfC2ob9YSaDzkYLa0tN6HyRxY8i/h+SCWegfAAAAQ0GehkUVLCP/AAAIq/roW2cquUAZy72Jnmc82WyAC6ip17jfILGQBkq8vdgVq+3q9u52esS/eIJKNaB3OaUuaIKacRcAAAAgAZ6ldEf/AAANzgDTqxHmF12yN4yYlhjqgG8SIKF4eOEAAAAvAZ6nakf/AAAjmSx8j6eccc5isHcDKhbUVCxVgANhhDjAPd6PW0Ky/zX5BPq1iiwAAABgQZqsSahBbJlMCGf//p4QAABHum867RDQA3VS3bBFJ972QbTYQSKLbATpHNxqg+nQl17PWpa5DBh70PdEBcQHh4Bjp/CpMXY8/LZBg8h3KG3aOFg2OyGcjUnItZaydD4EAAAAJUGeykUVLCP/AAAXTEPNtxXMrJlmD5KfZ1Ldn9ikWqykQuYQm4EAAAAcAZ7pdEf/AAADAL7gDTYQpzH1ZgvrTAJRiw1NgAAAACkBnutqR/8AACSxhZ/xesW5DA4ARpWn96WrKuORy5161gWtTGJKthHEHAAAAGZBmvBJqEFsmUwIZ//+nhAAAEVlcZX9g2wARkbWm04x+zSWrxdV2X3hZojlCRu4+ajNFVMulirIC9AptXL6OGbej/6Iqw/4GiR5FqZhI6rQxDzxZxzawlBtLX8TiWohpqWXmZ4JpcEAAAA4QZ8ORRUsI/8AABa7lyRABGIaQMVoyzTmQVALQMaVT9YuqE6j1YdldbP7KjldA4R+t23wdgFxD1MAAAAfAZ8tdEf/AAAjwz4O7lTeJft60vL91/5D1n8H4sHVFwAAACkBny9qR/8AACPHNIgQAcbsVTIasIstB2ExBWRM755hK8128Ia8mdCiwAAAAFhBmzRJqEFsmUwIZ//+nhAAAEVUq3oIArTV4ydYzJosrXk6NfiGeU6WtwRKhfrB6mZSmwJJwLACDJwV3S5VG332Z5LBpCvD1tPs8sTWoZTUfs1ikUlIsCNwAAAAKUGfUkUVLCP/AAAWsyyP+RxK9ZtQ6RZv4LgWiJHrpAwpJpNBoCp0DZFNAAAAFQGfcXRH/wAAI6w8VDUL3emzkXJqbgAAABsBn3NqR/8AACOyKwcTOOIuFprD3gasnG1G/akAAABEQZt4SahBbJlMCGf//p4QAABFgs+IqmGWUUQ70WLWazAR+UUXBSh+ur5t9AEOaTsPniWQvZ2bbbirW71k9nI2BN1bsqUAAAA3QZ+WRRUsI/8AABazM0cACw95tgDHkki+SOk5bipFljFJ0m1EHmx/BDLHDSc+2w2X3gIy2GmF3AAAACABn7V0R/8AACOsPn44hQk2bB8MiKG1D5jTQJ7anKu1IQAAAB0Bn7dqR/8AACOZ+3PM1puy8mpDA0D4yoQyj7iggQAAAF5Bm7xJqEFsmUwIZ//+nhAAAEVFKLQAg2zCExYAPRK7a7r782K4jyoQNkk4Eg0441JAzn/OeiIkUxdrLKaj28fAZIEINV+xYkxxxuQ+oMnLt2g0SN9YYNHUUxtVnNfAAAAASUGf2kUVLCP/AAAWquOQ94CyRkQATTCA9T6Kf6wP3/8Faq1lAZt5ZC2mUNfAwpSdFK6O8zkdr6wuEQVI6UCHUNBJajUIQUAlNs0AAAAxAZ/5dEf/AAAjrBj+cwbFah+VywAJHVs9bXexS0Opa+gg0xdieaMgWPPGIO6WvHNbQAAAACQBn/tqR/8AACOx/xvU9Hv+13VWy/fZfD2j6cYyj4c36XK5oIEAAABNQZvgSahBbJlMCGf//p4QAABFRSZgm3k7Jbbnv85die6ik2/+0v2DC/3Ub+LhuI9LgA+xojbfegxK4oURB9wPLxETHKQybOHffLK/DD0AAAAvQZ4eRRUsI/8AABaq45AZSBGc4ATV1FYQnaHLEODI6I68ipw51IbuKEST/UWYDvIAAAAlAZ49dEf/AAAirEJiFIVFa5FGwAXUStc9rvmdT9oUw7a+FviXgAAAABsBnj9qR/8AACOyKwlqDBTuD5osCKWolZ6a62kAAABOQZokSahBbJlMCGf//p4QAABFNzsXvT6AA6P3l9ko7dSVixVgEu1+/vBLrJfduCX6cLzPuVPtubdH5bqTcC6ygNL9C9kahp/k9i0E4vNAAAAAIUGeQkUVLCP/AAAWbhpDIpyXykAexRIs9amyhlsbtCoTgQAAACQBnmF0R/8AACO39gAMKhyzAScNYg503pObwwVZo4mT1wrGGzAAAAAoAZ5jakf/AAAjmllPJgBuZgZ5pqbFgpNtj/9HrS235jcyQ0mrLz/ZYQAAAEVBmmhJqEFsmUwIZ//+nhAAAEVvmGhfjm+/sdv7anOsTpMe4nByMwAc0bmhae1PH4oCODbO3sYKmVOuzXN/2G9AGwAKcJsAAAA3QZ6GRRUsI/8AABbAmz91QLhH9XxglkSco8oJ7H9xn83aYzFmCF0FqQALnh7rJXyRpBF6t0pYuQAAADEBnqV0R/8AACOsQd+5u+9GmzgAXUAhcJQAnslmNAav6NA8uC+8KEdjnja6/4x6uOzBAAAAJAGep2pH/wAAI7HMCXBacQjYY75O5iS0CzqAD+7GEY3HZAwowAAAAERBmqxJqEFsmUwIZ//+nhAAAEVFKaAAS63N+CKjqbBKB0Rm+Z8hRFsiCYszAqvIqhFLgFO53KHX7otXTVuervQOQDa3+AAAACFBnspFFSwj/wAAFqT7ImAvN72GYLNnPPMZMVnRwy8MekEAAAAlAZ7pdEf/AAAjrDsJfAL6DqtBAAlqnigNVs6RuhtE3xRp4EgSsAAAABUBnutqR/8AACOxzAlwV6hRJNXZf4AAAAA0QZrwSahBbJlMCGf//p4QAABFRSXMunB/svmwS3qHe7InBn0uXtZLDcAGpByA1tgqGxzc/QAAADFBnw5FFSwj/wAAFsBaBYEjlGgdioAS1QLnPDSOg3JyHNZTLfeu31suLivn/dEUSJNxAAAAHwGfLXRH/wAAI8NCWd8jFyGfgMXGJ0Sr8wy2JIc2qbMAAAAoAZ8vakf/AAAjs9RACMi2oidkk2UHoUbvpGkch3AaCP3ys+pSHvwbUAAAAGBBmzRJqEFsmUwIZ//+nhAAAEVREmx3gBQbdqzFWhxeyiTJis297YeQlj9wzhgMgveLOz910LqQUVjhF8JZqFWMKvRg25+96C9qf5+grT241g2plur7yEchcU3mm534aQQAAAAiQZ9SRRUsI/8AABa8Q823FcysmUk+B0KKy4jZR6wGnRgufQAAABYBn3F0R/8AACO39aEYsI6zgAlKS9XzAAAAMQGfc2pH/wAAI7HMCW+pb7IVSQt0rAAkUQu/A47d9tQ25CZMqf5+0XajNWujHHrK9sAAAABYQZt4SahBbJlMCGf//p4QAABFTmOWwC1n3C0kk4EiQaMym5fKyCVQmwu2tD3J+Rt4fvORCpl4JrUREIw7yNaE8tvB6dOTkhFIWN+moasF4dk1VJAeC1JLYQAAACNBn5ZFFSwj/wAAFrxDzbcVzKyZST4HQorLiOKj1AzkzO1JwAAAABEBn7V0R/8AAAMAAdqH2vrZQQAAADQBn7dqR/8AACOxzBBEQFSEAJUkgYWh6wnlHT2WLe3Dxvvkc2ppvUtLcFXHBjrXqwjNa83BAAAAQ0GbvEmoQWyZTAhn//6eEAAARUUpoACdIt9qng+zCo0RZo8L7STu40bWx6tjwHOGJEoRWSp8A7XQu5uk9VvLLx2ZtmAAAAA2QZ/aRRUsI/8AABa1Q1rkx9dHsJ7yX2Fz3U4IAS1SUT93tB75orZlHFUG9RQ+JLIRk9SeHmUnAAAAIQGf+XRH/wAAI6v4W3gjCgMUAnit/nFeja1vMQOhaGnJGwAAAB0Bn/tqR/8AACK/H4w3upuK1pTAZ95V2HDeEwQtmQAAAFZBm+BJqEFsmUwIX//+jLAAAEYUXUxr+odI/dJ9HsNOIAAp8wBXhq9qsrDg36zga4wQgVpM0KdM7ZBVKdvz6bPiy81IjVe79rCwkmQqsgksjrTYibjP7QAAAClBnh5FFSwj/wAAFrVDVantiQiZ1409EZ7JwtsK7wQdyWdVElvv2mYUjAAAABgBnj10R/8AACOr+Ft4ItMkekH5DNJt3hAAAAAwAZ4/akf/AAADAeZ+lr7KoALVhCY7uSEh7Xd9jYoUsTnaMt4LDGclJ48ZmeZUXyVhAAAAUEGaJEmoQWyZTAhf//6MsAAARgL28noQhm20mtHh7CIugA5wzdXhB+0/fZh0eM4mQ96ynUh6ZzABrr7Nban3tkr/DBI8n2apW0tU3S6hqBnCAAAANEGeQkUVLCP/AAAWvEPN2bb0HVbCTkeA0F4XDQAONrGvKlymwZAX1PWxRb2oD5bbua78ekEAAAAjAZ5hdEf/AAANhd0v+Wi8DNLufcRXJHAIglqxBgG4XE9Oi4AAAAAfAZ5jakf/AAAjsiruwMqU9xzY8Qi7fgqkID66uCbGjQAAAEhBmmhJqEFsmUwIX//+jLAAABqKZBMifqDQ+NQ0ekiSRVB0tb1ee+Co35H+MUCgtvysvJV6/x3JWjK1fNwmCcsizfYUHSkP/bEAAAAkQZ6GRRUsI/8AAAhvIeb+2xeYeztuNf3pgwHbKARoYmSJFKNXAAAAKwGepXRH/wAAAwHmwOYAbrl29SrCnf/iYcg8PqcWC69nHbevTCOmipzppP8AAAAcAZ6nakf/AAANhJUsvxUnuGFc0C6Fbb89Y6gHHAAAAIFBmqpJqEFsmUwUTC///oywAABECNZwBtVqMdlicEy4WVfOOiyQ0emw5995IBY6nDeBAJiBhNkqIenuKk4CXoWBxH0Bbj30T3qq8wycZ3RSZxH0ElhGcTGlKnju7lNQpT+rdPHDaAL5o63mJZ1Whgv7czEzdE3w2D/xyho71JiMWkgAAAAsAZ7Jakf/AAAivx+N0qd27SR3R9J1YsGk6B1EoTEg7gZ0Xn+WH5rX4dd94oMAAAA4QZrOSeEKUmUwIX/+jLAAAEYC+t4DTHC+QrZew+SChtfYOZuHGn99vrjoQucA016eBRXcspTmy2YAAAAvQZ7sRTRMI/8AABa1Q1WnI8EQMWIGXb9EaLQmePxL/AkWZGrYSsHx1yAHAzkzBgQAAAAxAZ8LdEf/AAAjwxdp+OA+dOEDaZJj/FJOLnWjqMXL8dAATGgNq/Aldf1vEEDAnkFSMQAAACIBnw1qR/8AAAMB5qCYqjBmt9Cy+IALYjo+U1uiLOnB0SmhAAAAM0GbD0moQWiZTAhn//6eEAAAQ4ApOgEB1J1fyFHuucTzd24VfoAuO+7AxoYoGuDaWvt3QQAAAFdBmzNJ4QpSZTAhn/6eEAAARVIGmHm4/QT4e3Hxt2ipROYfACaflREJwk3JiMlSvdScpCPHmyhBWrVGDqaCI5/vFANQWwvVTKQOlr+uTgnujW0s0A4CzUAAAAAmQZ9RRTRMI/8AABa1VzCDFRWA1/goGheNYtjK8GshyHLTxU3eJcQAAAAuAZ9wdEf/AAAjrDsJfHjTy61qxVdebLAAhr2BjpY3ULoptTsA0QFcAxQlH14+4QAAACIBn3JqR/8AAA2FiU2vZMhMNHAANhzQQjGpzumHJ+Cb3giYAAAAWkGbd0moQWiZTAhn//6eEAAAGlkgLlNidOxaKrWR7QnMb6wAXW4B7Gfhxvxw5RZZVyN6G4RsdT64djYZZj45a0Lr3uWVV4pxQQrwzH5cNetOrtExNY7ivKCbwAAAAE9Bn5VFESwj/wAACG2LG1qaWlZeMGuysAkAFApBRJywADk4F1NIPnI73CnoFNPNAKJITzKP5xpv6nb5ao4BSDxKoGQLe8PjGM7VIPwdzRqRAAAAHgGftHRH/wAADXrTWdnv2XOsIzgR5M9tyzsOXgAVsAAAAEYBn7ZqR/8AAA2CMh9FtfyNVmPQW8UkRQ4QKhtAoocQbzkj9dqJ4YgTmRhaDCk9TGQAPbjP4SrbYm9axyDub0YAQLTK/cPBAAAAUUGbu0moQWyZTAhn//6eEAAARUUpoAFgLyVZ353Wp1eQSqJpkimaLkDPhIMQ4O4N9uN04Yn7vBzpeXzbx6wYxwFK+KZg6q/6Ypt+FnsKpVazpwAAAEdBn9lFFSwj/wAAFrUrN2uLE35dI64AI08aiwfhv7c7+R3mZf+aAUTadmTXzbW/YTAAJ1Xtzhxexu647rscfeJLBgTsHkAlFAAAACoBn/h0R/8AACOr+Ft4I2o9Eef2VAhfF5kTNBiyuSTomsJbveXgXs2AwIEAAAAdAZ/6akf/AAADAEVjmBLhJ5KFsf1WpIje8Uq/RywAAAAXQZv/SahBbJlMCGf//p4QAAADAAADAz8AAAAxQZ4dRRUsI/8AAAMAEEk9KKAK33i7lDcimRfVY9lvTzYQgf6KM5yclnc1xLSveCnxXwAAACEBnjx0R/8AAAMAGl6KGl/hOznJjUOwWJrB5ynC5a41c64AAAAdAZ4+akf/AAADABpfbTZu+13KhqD2zMDxmd8om4AAAABxQZojSahBbJlMCGf//p4QAABFTliIALvIxflNfh/83NAeTILU/8ybPyiOMPhrlnoVTTppyG+/sWGgx5uRVGttNMSB6ZTP8o252++BuRaN2zO68itCemD0fWr7PXjqsLlQ2UD+8YhlAFuEyvB1Di+ggVcAAAAnQZ5BRRUsI/8AABa1K0Mynm8XKSdz0EophXuwAC5iHi5r3Xf/Of+AAAAAGAGeYHRH/wAAI6vfKNDNDksS0a9JfndlBQAAACABnmJqR/8AAAMARXKy2C1OmP2CyuSlHlNYTKj5dV+pIAAAACpBmmdJqEFsmUwIZ//+nhAAAAMBauCjxHLeG9/AFRkWk67y/PyjPJrwOaEAAAAcQZ6FRRUsI/8AAAMAdCHyLx2w6Bqbr9r1mcnoIQAAACUBnqR0R/8AAAMARVfwoy4CXOmyoAQb430b4KvyAGiuMKfFCeghAAAAGQGepmpH/wAAAwC6ShyrpiY8P5Fgvma5InEAAAA9QZqrSahBbJlMCGf//p4QAAADAWz2fu1kzs2sKvqSvpyqmgAuo3+q/YoxXIJ9UHJ2S0pEDlxd0snXjziTgAAAAB9BnslFFSwj/wAAAwBz/6TTasBlftfj37ULsn45SpE4AAAAGAGe6HRH/wAAAwC6Ck06mbDOqI8de7noIQAAACEBnupqR/8AAAMARWOYEuEp+ediJ5MGKLYtXeDjFXDXZ8AAAAAtQZrvSahBbJlMCGf//p4QAAADADOmUC+ACpPAkxJxAObO1qL1/2uck3AaGFlAAAAAHkGfDUUVLCP/AAADACw5yVOdRB6Z9fiXQxOCFKkTgQAAABgBnyx0R/8AAAMARVf9sjfwjWYLaBzpE4EAAAAYAZ8uakf/AAADAEVjl/6MrFLtt3h9yt6DAAAAMUGbM0moQWyZTAhn//6eEAAAGbdPUBhAnTP+lGvn+/anjzw4bHTfkxLWtLl0t7MAFIAAAAAeQZ9RRRUsI/8AAAMAEFf124uoulXK+cZydLRsqM+fAAAAGgGfcHRH/wAAAwAaXAGyXaCvHI+JDlyYes+fAAAAEgGfcmpH/wAAAwAB/IGXmOkpgAAAAGBBm3dJqEFsmUwIZ//+nhAAAEVOYPzhAQSwBHsArvKc+RoTprekkp4OvLyA8/FzQf6A4+wtYjW58+yQWJOmMx83HrgEphXNBG/gq1GmOtUyl9q/oLReK5hbc0WZYd2YJjgAAAAhQZ+VRRUsI/8AABa1K0Mm/Z+QVEdgKKme0Oddtz+1xOZ9AAAAFwGftHRH/wAAI6vfKsDNDksSz/3fbqIGAAAAHwGftmpH/wAAAwBFcnzZJR4AeVfXU3Uhp/VzgARPBuEAAABDQZu7SahBbJlMCF///oywAABEFQKNAJoOi+lkdusWej3vWc5fdPpIIdSVkG5FdRDE7Oz/sriNZ71c2oT5fc3xkxqmgQAAAE9Bn9lFFSwj/wAAFhpY/o8YNuFQBrvHKzaiNyG3cUdXcjywd94TQY0fw0asfWjjKP18NMJ7WEoGJPspCR7/FsrDswbhVYOK2Hefco84ptoOAAAAGQGf+HRH/wAAIsNAEu1UkSE/VkLBYyjoBd0AAAAeAZ/6akf/AAAix8cn4ZDgDMcN122iHgpEaGAyjCo2AAAAVEGb/0moQWyZTAhf//6MsAAARBHArkfRvwnpFUiGRlk/PwYAeQa2oap36cgpzAAh0NC8vL+AV4fKaeDf8Zvek9ea5aOpIV5J2T1f3ZEignKTSNaviQAAADNBnh1FFSwj/wAAFiVbAsLDGu7gCI710jrPsS2gAQe6+UgsyFQHZ7Di/pxfrhf5birwIOEAAAA6AZ48dEf/AAAimIYLYiqLhgcAK4RuKh/UV/E7g46sRyo07eyoln0mPBgBsUOli2Ts6GSiYSxXBzRwMAAAAB4Bnj5qR/8AAAMB5jHXkHqUfkuHcXE1/HtUSkxcggYAAABKQZojSahBbJlMCF///oywAABEJcF37ytX21E5ZjNGwGyCbPiqxskxsb7WROsgTjuLJIzGnHZips928Ly1QIQxnEMo018kFQ/DhXcAAAA2QZ5BRRUsI/8AABYsT469j6VghxUuOUO2hOB+G8tgAaqTZGO30QDjusALzGolCW9J/oTfoJOAAAAAKwGeYHRH/wAABRxSa/HAQGbrw9ACaXNVXOU39TU2Qrsed4fcSvonlA8dwP8AAAAiAZ5iakf/AAAivx01b9kfwGYPME6pJ1rPVhAFDtrWusAKmAAAAJNBmmRJqEFsmUwIZ//+nhAAAEW6bzzcjYquAOSwV9lBFwbk4vIaQo8/ALca+wv75FS+r2DtyCyrfq+sNwj4VAiXig8NM9vA6mwoowl0MxE3W/frN1p0lo+IffxDTOlnD/YsnnW4dLI6F1Ku9VTfPH1p1MFVIgMFbGdDr11rr23ovhLrVhw+iN3QS4PVHoYZKkl30kMAAAA6QZqISeEKUmUwIZ/+nhAAAENlQ/aMgDetuGwIOPfJk5zorKTabF3ii89yd5fwLhBWD985N65dmDQDUwAAAEZBnqZFNEwj/wAAOhEfT1eApfufYhrzs7ewAirpI7zZV+utGBpCrFmG7VB658FopmjwE43aENmG5yugF1OUE4Gdge7OJJQRAAAAIwGexXRH/wAAI8MXaKQ79Z2x9VvWJWSdov/qjXvKszIeCcNnAAAAMwGex2pH/wAAXTNcvem6R4IsRy8D/54AnZXqmXcLwdlyrZNmHPIgP0qKrhbkdgMCH+FEXAAAAClBmsxJqEFomUwIZ//+nhAAALZ7v337/2k4QZL2OrThTo/o3UPdXAxUwAAAAChBnupFESwj/wAAOgBFDhA4XetlnTrbBDF2hgAG67ze3lrzbJGrUY1BAAAAGAGfCXRH/wAAXQXOFD31jEPBg0wxMyUDBgAAADEBnwtqR/8AAA2ElS0NjS3nVvhlpm4q7nF/ABwXq2e27SGlhYvJUph9OeoNTFMByTkgAAAAIEGbEEmoQWyZTAhn//6eEAAAGn9ji8NBn4fgPiJwwAVtAAAAGEGfLkUVLCP/AAAWsystuDGKYvNu5NADpwAAABQBn010R/8AACPDF2ofGA0ipACNgQAAABMBn09qR/8AACO/BCcSyWmxKAU0AAAAOkGbVEmoQWyZTAhn//6eEAAARUUhAxgnsAFgH5d45BxsfNs15nXNor/Kmk06JtAq3/7w8LM9zzhG70AAAAAZQZ9yRRUsI/8AABa8Q83MavcqyGCYMS5dgwAAABMBn5F0R/8AAA2F3S/7Up4bgE3AAAAAFQGfk2pH/wAAI78EJ+4ILTIQiGBgwAAAAHlBm5hJqEFsmUwIZ//+nhAAAENrRq+wAWH14LOW2lwDvPO3rzjzwgbHEFe/oyQ3mDUneRwrVe2w2y01LmBRBzX12Z73T/UOfVASSlc7LT0/F/HNziAFwuctEVu4zqN+NazCzemDAm/veXmm5G807q56I2gAYxuchDuBAAAASUGftkUVLCP/AAAWJVsCGOTCzB1En5OiTQCibTsya+ysVg2erbz+hQFpSv9bGEzR+KigHCy5oEMhhLUewUM2HK6GFgK2hHpX9bMAAAAuAZ/VdEf/AAAjyGGy6kAG5I8AEcH5fZVV7ixkD7CIYS+ygZSY53DlQyn7Ye9twQAAACQBn9dqR/8AAAMB5qAd95as3rh5QTc+Rfg6o+O1+wh3Cq8zE/0AAABwQZvcSahBbJlMCGf//p4QAABFvisa1w2cO0AVofl8TkYNaT9Ue781ws48ItRyRdVTSaaeZ2Mf6JQBr2Wx9WVrjtq2Q7LfF5pSFLptgvx+Vbw3T0OpXTT34cxm5KGgSoXr6H/3q/ZmQ+gIKWQXuXQitgAAAEhBn/pFFSwj/wAAFrU+8HLoZq1R4PJJQiH64TnH83vdCTHXvKS6huudURruuUrq7sWzq7uU/Yf6CSro5WmXCPxLXzy5lbDj7JMAAAAoAZ4ZdEf/AAAjwxdoqaVUHLWNtcPHpy3QxsmkbS6zx1xgJo5KtFw1BAAAACkBnhtqR/8AACKyMkaaTmf6xpxACKn86AcHgd7UGDBJG6SwGEedN96ICQAAADlBmgBJqEFsmUwIZ//+nhAAAEODK+YdzKuuN/Dju96NaOCCFdvuQW/5LirZRo562/ADd+O/0O+09UEAAAAuQZ4+RRUsI/8AABYsTyBWHNyaMAVaKWXKeDwOBux+aMassrr/6UkRBcGtMaZyQAAAABMBnl10R/8AAAMB5rAUptP7oDPgAAAAHAGeX2pH/wAAIr8cWLHEdCyOo+oB8Mj9zF7sQEEAAABFQZpESahBbJlMCGf//p4QAABDUng2ADpH3C0iUO49fRVFCGp9yRW1MXyerkF/0Jqa6psyI+0HN4cypDfJh5+sDRhELp8eAAAAK0GeYkUVLCP/AAAWu4pdIYtcQ6ztMdVIASw9HgVPCFQuofOalpijZj1r+ScAAAAnAZ6BdEf/AAAjwtVgLWSADdditGNXBYLvvGmY4gqKJW1FY/o6wDoIAAAAHgGeg2pH/wAAI7H/G8v3EzWt57/t/bEyCJ23/NpAQQAAADNBmohJqEFsmUwIZ//+nhAAAENVKwQCVAmZP/cF3aiTTj0RCLupjRq5Y4rOBa5JtXPzvj0AAAAaQZ6mRRUsI/8AABYlWlmDRNELgJT5/BQP4MEAAAAnAZ7FdEf/AAAinu2ebcBgnO6gAW3Vb5qQCn6LFR5+TeEGg9ufW8GBAAAAJQGex2pH/wAAIoN/azDSAGiawHf4HLY8rALEEx7MC0yJNjMpm/AAAAAhQZrMSahBbJlMCGf//p4QAAADAAcQMrgCH/hx0xKBWZswAAAAFkGe6kUVLCP/AAAWLqa4Hk2rJRHbN+EAAAARAZ8JdEf/AAAiwz+x6vT8Q8AAAAAeAZ8Lakf/AAAivxvaueIc2meend/CRUf3oalTmaxQAAAAPUGbEEmoQWyZTAhn//6eEAAAAwAT20C920Zp8AFapcLQFZOdWzNuLC7onWxGnef7NmV/5SUo5u8rol7da+EAAAAZQZ8uRRUsI/8AAAMABnJg8CZZU4KxrcyY4QAAACUBn010R/8AACI4OYm4oAON2R9PLIrinldTnSgnhrUAkBtgAqHhAAAAFgGfT2pH/wAAAwAKPmEgmtcq0AsR/4sAAAAiQZtUSahBbJlMCGf//p4QAAADABPfT1KDvLufxE6MRcwFjgAAABhBn3JFFSwj/wAAAwAGcJqxSazJHVMfLMEAAAAoAZ+RdEf/AAADAAo/jga0IAH7jvWUcpv6mpshXY85NSHNBgdA5eLLgAAAACQBn5NqR/8AACKZUd+QIAONe+4TSuKdiVcjpQT6y7HhuywAqHgAAAAXQZuYSahBbJlMCGf//p4QAAADAAADAz8AAAAsQZ+2RRUsI/8AABYYb9JmIAIvjS5IMuui8mhJIVEUaCeViei2cXRF/FNTN+AAAAARAZ/VdEf/AAAiwz+x9qBJg58AAAASAZ/Xakf/AAAivxvY+r9XkufBAAAAKEGb3EmoQWyZTAhn//6eEAAAQ1J4NgAsPrwWrjbA/xvcNpQEtStWa8gAAAAWQZ/6RRUsI/8AABYlWlFcuWRYy1ACPwAAABABnhl0R/8AACLDP7Hro/EPAAAAKwGeG2pH/wAAAwAKOUfTVgAbUS0/YURvWviAJvqwMmeZu5GAykHLaLP1R3EAAAAXQZoASahBbJlMCGf//p4QAAADAAADAz8AAAAvQZ4+RRUsI/8AAAMAEE6cgNADlWVN4XujAGxH8E53KfejXG6C5N8glOHmRaDt8WAAAAAXAZ5ddEf/AAADABprumtJCKD9XHRV/bMAAAAbAZ5fakf/AAADABprBPc1AkDXTVj376EeGO3BAAAAbUGaREmoQWyZTAhn//6eEAAART6WgAHGQw2D3cWFrIyJAW4QilIL/+5+7/8/uavFeW+Q2Q6nN6tgzu2uYPzd1UYhFPrxbo0QD6k8OkFPf5rDKiwamu8q1fZA+asWQj8P+/aqLiGWtoCEGYjF07gAAAAxQZ5iRRUsI/8AABZ3kozwhcABc7NORJFLmRVad4zzZdPQY2YTm3fSmvk5eYpXy5jpJwAAABIBnoF0R/8AACLDP7H19CRgeuAAAAAsAZ6Dakf/AAAjx5PIaLHOkFgz0fU57KbAC26uH0k9aKT0ENs/j9hVY/TE+zEAAAAwQZqISahBbJlMCGf//p4QAABFvit75A0ARCFfiKQ5ShPdW4ammonw9VOk3BPAAO1BAAAAKkGepkUVLCP/AAAWd5RldrcRjQYNcmZJwAugJUCkZStMzaktapiDKewXkQAAABkBnsV0R/8AACOr+FuOC+XgmU0s5YZGyk3BAAAAFwGex2pH/wAAAwBDfjX0wq7rcvM6wHmgAAAAY0GazEmoQWyZTAhn//6eEAAAQ05lGLADirld5XGy2mViX45BQ+drbAtFuM6FRYfUeGuYWZxi+oDdkHt7tC+XL3LgJTzz//shFh0dMs3G6yZQZ4f1mVodMAt0LmY0/v4LTl7PeAAAAC9BnupFFSwj/wAAFsCcHcut/RWL8k52D7VAWGAB78WWJd0L920rzr141+iGHldtswAAABcBnwl0R/8AAAMAQ5BmOkHoY9sEHDSo+AAAABkBnwtqR/8AACK/G9q6NjPQpHhOWxeoebZgAAAARkGbEEmoQWyZTAhn//6eEAAAQ1IlwAUNT+29smeQ9hsRz375SFg+5Obbxzgh/UMdwVY/V0Ot6tkca0VuGU+3exZG/satJIEAAAAcQZ8uRRUsI/8AABbAmOhkV2leZ0ryxslN85H7iwAAABMBn010R/8AACLDP7VPgRM69K+BAAAAFgGfT2pH/wAAAwAKPmEgmtcq0AsR/4sAAABHQZtUSahBbJlMCGf//p4QAABFVMIgeo2z6qj5ACVHxaqQweV17H16SZcS23wzIuDnPvkX5QI35XfLavWkurG+QqG2X9qLe6AAAAAwQZ9yRRUsI/8AABa1KzNX6yOAKtFLKwfhvvLCsv4G9OzPgn49DoeY2RUdMC0x0v/tAAAAGQGfkXRH/wAAI8MXaKnFywRIg7+viHWmvHwAAAAmAZ+Takf/AAANhYlP1ZH8ALbq+bM60s/QaQ754ycLEhxLCB2DbMAAAAAyQZuYSahBbJlMCGf//p4QAAAaf1EbrTbX+a2oAL68mVZol7OtaSd2zPw36rBUmU6tMCEAAAAhQZ+2RRUsI/8AAAhr+uezYQAmeDqXEXrrX0QmfYUyqnqgAAAAGgGf1XRH/wAADXS2EcYaiHNdbP9caXWy1YQFAAAAHQGf12pH/wAABR5B43LScRfQpd95hD4MAoLIE+XBAAAAI0Gb2UmoQWyZTAj//IQAAAMCSmzxwovpNGsjArbrtPYQiImAAAABrGWIggAP//73aJ8Cm1pDeoDklcUl20+B/6tncHyP6QMAAAMAAAMAABW3pGWGQnQv8mIAAAV8ALIF2ESEgFLG8KgSvJn8FjKQVoMDn1rLTnTZb7ssAM9B4Ay6pzmwDqs1fMSGmqyd49gAABpvIag0nOWs2O3pbE7tM4OO/cpIE/sxRzZsiAI85kUSbDB57f86ikBhSCe9M9n/JRpsrUmc0oNu2QA7UDPKWjIFxbmrq46iV+3kqu3dkJRL6FUA7bBgFrrWGcvqPjuH44OPd+kuuw4sQqQql8ByqoJqqO98t9ysZOqf8gNF1izi4VlwkhC1Dx568FI6RnjZ+6eru809qcIu2wGhWx4rWD1SzsfM9akzhZzTzwgnA8K88Ftm/tCxhHFSDvJKCHLeCBWUmxhBUnF0VGMi77nad1c+TfN71lJ2ApN/soN7Qs/brpstJXos0FRWPLJD33rDF52sN20Lh/FWkEhYCXFd6A1DLwhc97wePG5aBRzzyAlMvsgWrudeiEvyBfOl29oT01pmJw2wydOxJO9N41JV13EUajb1pO7c3ARsAAADAAADAPCBAAAAb0GaJGxDP/6eEAAAQ3UY/6gBqnwvFs+56iIKqS0crvv/N/vuHIRszrqhP/Dpv25i1Qe1rOBEIvtL/6NqNslow141w0LgjRZ6QLU4O4YpI5hatIfWy8Nb09mHiEpWeWjEUxoB5KFggelcY78puFmnwAAAAB9BnkJ4hH8AABYlWmkPB0xKXKIfvV/ZCnmXi9kGGOHhAAAAIwGeYXRH/wAAIqw8baJxzi0xl65tqoAGw2YD3yxa77x6jCYtAAAAHQGeY2pH/wAAAwBFG+9vv41ikhfojm9KxUmpavZgAAAALUGaaEmoQWiZTAhn//6eEAAARUUINAK1FPyI2yxu7vxaGBSATTmxESvVj7QjYAAAACxBnoZFESwj/wAAFr3d10qaoAbkMTTNlf9OAWDntX2+RNveZcHwf/OaHgzC4QAAABQBnqV0R/8AACPDF3VTNp2cLePtQQAAACUBnqdqR/8AACPHv8rWADib3Ag6gho0OEYLBdZ9UqJgZ5Lg+M3zAAAAgUGarEmoQWyZTAhn//6eEAAARU5WgfQPAEtt0xalXdOZcg4CaAiYh1eEG6Xh8L9ILW9AS//vALGVZIomkyCBMeCJwzUPMmXYDhpZRDgDMHo5610CXcupD89A5kPIvgI3tUBBd/dSoNfwoLFrv2OPvn+uqxi7caBISuG1ofkLCersBAAAADRBnspFFSwj/wAAFrxFl1nIyq2k0rk2AAFxWUhI4vc6Lq43CnNM+zrPR530TJbGV5v2CaZJAAAAGQGe6XRH/wAAIsNHCGrdo3bP4Uu6cpDyfMEAAAAnAZ7rakf/AAAjvwQr1l60c9OhuWUwPQAQdnv7trrHksvHxK8+Xd2zAAAASkGa8EmoQWyZTAhn//6eEAAAAwFs33ML9Ye4AWz13EH1lCaA1qw8+EJj5bdQ4KXQWK1YPhYQq8aX+RgP5vW8nkSfyUqwHIYH38phAAAAIEGfDkUVLCP/AAADAHQh8izotBseMoQRhVGGbV6UaSZIAAAAFgGfLXRH/wAAAwAKP5fEzeJmmYhhWKAAAAAWAZ8vakf/AAADALpmEs9xJaaGZwKbgQAAAHlBmzRJqEFsmUwIZ//+nhAAAEVFKaACTRqxTBmtU+U3EjZ3zEUiHC5kr1UpNXrxJxDW6Yg0ARq6e+YypLrXbFC7Dxibcep3nyjTdbf+pXpd1Ni6zFH6bgG2FtvSKjkJmaeJW8fIUayy/6RTQOoE/Jfm5pXTKjUE6UmwAAAAPkGfUkUVLCP/AAAWtSs4yQDUVxu7c7+M2/OJ5kuylYQEZ0a3gnZZGq6muKa1zAz95+m4nIsApyio2PxntlswAAAAMgGfcXRH/wAAI6v4XDAgqXckx74UzfJC0G55JcAEtU6llrDXGEmnBJu4UIK7d3Tnz8GBAAAAIAGfc2pH/wAADYV/0ZOgTn/rYKYxOa+P+XP9gADXEVQRAAAAZUGbeEmoQWyZTAhn//6eEAAARVURzm5sdRstmjABzhv8FF4eDsTS3KXSJA2hCLPkWfE/nEulLcfkU6ylAr3Q9i+3x2ZZ2Cmnn5Aj+vCbuHBdWqgU6ClnXQZjJxxzX/WnFVITGpvHAAAAM0GflkUVLCP/AAAWsXb+AOU4zI0Rze7OCs8+b3ws54QgDQqonzMyA6tGPSFGXvmDt+qjcAAAADQBn7V0R/8AACPDF3TKR6JzGpFUtkR2//Q004nrFBJh+OveQAmj/AO3+xVEXFduyc3B/+OAAAAAIQGft2pH/wAAI78b6iR5gIqzY93E8QAIZ8b3123OkP7tqQAAAE5Bm7xJqEFsmUwIZ//+nhAAAAn/s/drJoFoQ1SWY7VUtbk1RygA5w4CXRWdFqPJOotnSzpSX9cdpZFEsMhWiFEv+3zxI6UgtrA5Mzicy3oAAAAhQZ/aRRUsI/8AAAMDOE1nNpV0NmSpVOo5J5gAAZnzIYqAAAAALgGf+XRH/wAABSCqunY+ZMfieyJc7eAAEJuafsKJ+j/FRHixtI7KUpDtwAlyVtEAAAAZAZ/7akf/AAADAeajXD4DgoHU8I+nf5AtoAAAAEJBm+BJqEFsmUwIZ//+nhAAAAMDueoqkukFcwv1i1ABUnFgQoXi0LiTPq/+uxxKQwgeEBNSzhBeJQxBAYNeW3F/liEAAAA+QZ4eRRUsI/8AAAMBNfyrbKjdrx9DgES4xHoh/f43xr8yeHioTMlvDGa/x1A0XR+urW3/VqCJPmkJO/1j+DEAAAAbAZ49dEf/AAADAebyWmUVbXe2DmwLN3sVEUfAAAAAKwGeP2pH/wAAAwHlyVH+QejX36OOLYAEQdo/RR6szSBNiqrox283DNsWSYEAAABIQZokSahBbJlMCGf//p4QAABFRSV38IBCp6ieavobjf4QE3ooR1Kh82qEWIfSKSzKQQqANyxSG31xzWFL4kywhXXBUC2xpybnAAAAPEGeQkUVLCP/AAAWveAQCxbUdSgAOLB7hdxLZZg9MblTNLVbY657xn8GxSK+GWsOR875Kf9lBY/InVq7ZwAAAB0BnmF0R/8AACPCZcc6y16WT365krHJmWBOjWiO3QAAACMBnmNqR/8AACO+pmc3LABxN6hOWvqKhnU4C9+b5pJl8gzg4AAAADNBmmhJqEFsmUwIZ//+nhAAAENlxEQoTqOfstBMAVdCXFqUAOAg2pb83EppyC6Nmy3tYsAAAAAmQZ6GRRUsI/8AABYsULS6o39EgAS1WOqYIXDMEja3KIcqASiYJOEAAAAvAZ6ldEf/AAANfgDUvp7zYK/YjqGxKB8wAXE/Yoftku2wCtEFbYMlrri7P00ykmAAAAAkAZ6nakf/AAAivx01GQ1cMmABbOXb1ZJKrDJzbPG+H+vttQGfAAAAKUGarEmoQWyZTAhn//6eEAAAQ1IGnsk/cg9oERtbct5xLpQWGLY1PpI8AAAAG0GeykUVLCP/AAAWLE7pSsOVvQH15lSaqjGQEQAAABwBnul0R/8AACK4wfVSWLEEc7APAfpCMBv9jlWzAAAADwGe62pH/wAAIr8b2ABwQQAAAKFBmvBJqEFsmUwIZ//+nhAAAEVOYNiTXF1LALO8bS/6xx1ZEvuqB1sDGxmhIrwGK4ASGX/vIv4UST3T6Iwi/yvqosODMgOrrtMEY46AOhYEM2SvhcHyq4ks5AO0yC8jr0Hdr2bm5O9cSFY7u8CpcSKYBIGZL5E/VWYR9QDCtmm38V0t18OqZnEBuPZvoDPgA2b9tqn90lO7/sLzva6SASW58QAAACBBnw5FFSwj/wAAFrxHFpNsuSguUhlvjCYMgENV8UEQEAAAAA8Bny10R/8AACKsPFAAtoAAAAA0AZ8vakf/AAAjscwuKrr5BHoAQN6qZruF4PBzmVfAvNt+OeeiReBAMqOlH4kijooWmCB24QAAAIVBmzRJqEFsmUwIZ//+nhAAAENlYlagFb6T6BYY3T3h4ET+4BeoXZ6kqRr0RmMrA01iu2eDD73lR0nER7/Np0jwwihZh3su4UQyZ6UpF4bjfy9x5pV5cDpzcEUAcbXgX2IZde56Pl3z6zPdKpzUwUFMK/KJAogd80Dr8lNOQxra3DK0ibhAAAAAM0GfUkUVLCP/AAAWLFC12Kqy8oW6tbQRXmsw5gYdVV+7MBYYh8nXbVJQUWOcx/aMT63x8AAAADQBn3F0R/8AAA16tMCvY20HDdRhcmPzLP3rpN+tgATrDQ8HBlzDMjX0T84D/aUG8Hjb4QA5AAAALQGfc2pH/wAAIrI8uWlOCxc8JrpaS3BNiNopNAAe1oYIvq+OVjRNiEPIHlYJUQAAAEJBm3hJqEFsmUwIZ//+nhAAAEW+K3tRRABGa/9KTtXcQ+6dFgwS50Z7ndiePYoA8Me00yo2iBn32R/d2AY3RE87dN0AAAAgQZ+WRRUsI/8AABZ3lGV2iUYwgcJe3SttJCi3d46q8xYAAAAeAZ+1dEf/AAAjwxdp9zX8MOEo7s05n7Bo2V4BDlvQAAAAJgGft2pH/wAAAwHboB9MeQtfsXYBkAEx6Ew2ET/BwLCcHEXuKV6rAAAARkGbvEmoQWyZTAhn//6eEAAAQ2VBUeHEkAIQ1vE6R6d/fqDi11FIHqbOyY8TZRDoFKRHtCnxq/7QylQkj+XqnWz+x9v4yYAAAAAgQZ/aRRUsI/8AABYsTmzC2QKfYpCZCStXy8X3ZNJYQEAAAAAdAZ/5dEf/AAADAdq3isZFNBwVXRMHvTjx0BTPDwcAAAAhAZ/7akf/AAAivxrNpvSABcgJeEK05CwzLt8QBoK5kZeAAAAAOUGb4EmoQWyZTAhn//6eEAAAQ1IGc1q/0BuyCshdhM1pHYgpMaDIEceb2EHBJsm9A0F9x0ZnRXk2YQAAAB1Bnh5FFSwj/wAAFiVYVa+5MopgRAb0N8a1RouMkwAAABYBnj10R/8AACLAuZW89GPCQXdGkFwQAAAAJQGeP2pH/wAADTyXgAturtvO2g90IHBsQx+LTA9EAO718nL7bMEAAAAvQZokSahBbJlMCGf//p4QAAAZ0S5lbD8YU13zDRhKt0f/61EMAUMzAFlCSnde58AAAAAdQZ5CRRUsI/8AABYueCS9OVriiOVm/MU3ntRWSYEAAAAsAZ5hdEf/AAAiwz4On26mIUaopZ/L3RgAAB+47x3XybIzX+aCSajr+M+/kk0AAAAQAZ5jakf/AAAivxrOpgAu4AAAAFBBmmhJqEFsmUwIX//+jLAAABnr0xOxUGjuQIitneQZKM+R2XnJJ9/wKAD1blePIiivNoF/juHixOHdh/WBqzZz/1y38gqLv/oJS4U4TPttmAAAAD9BnoZFFSwj/wAACCwKThQ7vGj9wA1eu8YXfWmCROxjNwlvwokcq7vg0dM7IQS5Xqn9BKlmdliBinfRcmkdRWEAAAApAZ6ldEf/AAANLhNORQzWi/kkihfAAtu91Ln1lGqspoPZvSK9jINb1PgAAAAsAZ6nakf/AAAE9oFkIq10DiXWv/irPUNTo5eAD2Fcb+pZ0C7ji9Hhmj5ko3sAAAA0QZqrSahBbJlMCGf//p4QAAAJt7+Nlm0t/+bEPmoAJd9g1MURbgr06VTfLNekXGqk4kxq8gAAABpBnslFFSwj/wAAAwMlzknj2uvc+Hzjvb51gQAAACIBnupqR/8AAAT6QPpkcB26rYbZ/e33iy4AAmWTqXYtxxi5AAAAOkGa70moQWyZTAhn//6eEAAAGbkxEdOeopQCw1UNlBAL+wtOWwwD64QlhgAazTAFnyi2TjFH2mVxnZEAAAA4QZ8NRRUsI/8AAAMBLfxpu6QAmlfLgzJxaZeXj1FVSL8KqOTKn1w5l/bf2sgueLscaUqOtVR4qMEAAAAYAZ8sdEf/AAADAdvyXSPjDOUVcCX8eI+AAAAAHAGfLmpH/wAAAwHazRKkd9b0XsU5Uk0EBikDyTAAAABMQZszSahBbJlMCF///oywAABGAs9Xf9HXgaQ9KOm1/AA50gPK4/gMJ12hZ1Gtd40Tsf2gg9BYiDMPjz6mFUMTZGaculWgNgqX1DVtwQAAAEFBn1FFFSwj/wAAFrUrJzKAXABGpibnSWRkHQ27/7pqS/hcm+incSKdF6G0UEh/m9HjnnmWzevSCYHWNqDQ37SggAAAAC4Bn3B0R/8AACPDF2ipxszhqIjvOjDPqJABNH9zWehUJpATD6JmEl+GGEMYiBKgAAAAKQGfcmpH/wAADYBxMARMXE4btBiinjFx/ET3RMpJTAV8QFssBFEfIIYFAAAATkGbd0moQWyZTAhf//6MsAAAChew2+wQIHIgBBz3pZnquAyrNvzgoDFvdM5LpWPn2hLcUrHacn8EsMtj1rzN/IX0wEKLMifniqRFj+JYPQAAADJBn5VFFSwj/wAAAwMu3wbvhCsi/OVXIQAyIOlB3i0AJ0T/38TEmmN/CGtbDTfT/l3swQAAACQBn7R0R/8AAAUgiCds/puplaxw/Qyu1mcsbC4ASeYIrHTzgm4AAAAkAZ+2akf/AAAFHTAPixB1qR+YPFZUqdlQAPetPSS6eF/F4RswAAAAWUGbukmoQWyZTAhf//6MsAAARgLT3gNMc9DK2+3KNp3wH7X7lLjq+X2eePsPvY6uMc0d+f5EWu+vSAxN+UOLFQ4jb9z4yY8JWtwtvPHYbaK4fzd7d/iKVdsZAAAANkGf2EUVLCP/AAAWvE5rw2U4AfRC8gPwgYUDUQNGrH1mZr834OsGXtbO31clwyVdlcZUHwR+zAAAABwBn/lqR/8AACOxzA1KlMhS+SHH+uB4KZT1/1bAAAAAi0Gb/kmoQWyZTAhf//6MsAAARg5dxAFTZjQgE64uMKEbBuHlH4m21ueRiLvZi2ZZ+nBIxORyOy2E7m6QKTy28hMTyfjz8BjRNL7hkE6SDDiXYwJqazENV//vkB5BbF7e9/UwRorUL2QQTh5uOHXuUH4oXC2VY0Tmxom0WIt93ZLJHcRtEopsdZJKU+EAAAAiQZ4cRRUsI/8AABa1KzdrWl64ooPCMLA52RxXdvWxow22zAAAACUBnjt0R/8AACPAt9mZ1TV7vQ17Gw3uNPBfl5qOtm1OM2fkTtuBAAAAEQGePWpH/wAAAwADtv0uDTxhAAAAXUGaIkmoQWyZTAhf//6MsAAARAjWcAUAwoTIxBNiE97a067EH0INhOEh8OXnFFATZQmCjxpb7I1pcHcrLdEcWL+FelSv/LCFSyvaglvQrxu7riVLBe2DSdKF471tgAAAADVBnkBFFSwj/wAAFiVfTFkAynoHZgAC4pT/IG1g44qwlhTrEwgFaMv1P2CCabTlQVZALiG23QAAACcBnn90R/8AACKsPSNj1bNcUbHo4OqmgABB2fOfGnY5vByFSIqlfbMAAAAoAZ5hakf/AAANhNKIAONy7e47JAks4tfC/tYKPftG9harjz9p5zKVtwAAAFNBmmRJqEFsmUwUTC///oywAABECNZwBQDCUItJCDPmKbUDzDpdCgGYbUhQfjwpUDXQooX6r8kYElIZ1X51FB6W2KrhH1CX9uT2URMOzxJSLmHldQAAADkBnoNqR/8AACK/H4keCkn2gBJd7XWCAvHlb+875+b1Q+UCFQTM+Nn0er2+r12zaSel2TWZvHVG2YAAAAA0QZqFSeEKUmUwIZ/+nhAAAEVFbxkANXTrqff2UlzwCLXgeQ+4aJMc9BdlYycRZrrqNqmLuAAAAFhBmqlJ4Q6JlMCGf/6eEAAARZxoXUVkVulO0SDjUmElG+CEaeJ25DQnq0tHEQgtA+AKr5rhC0kcwNVXGWTZ9sgBXQw4u00IxjlltNo44vAW7jhDEGM2TRuBAAAAKEGex0URPCP/AAAWtVkKKOMC3OWXOkGZIgg5OkzpEZlwn5zNb6oB9swAAAArAZ7mdEf/AAAjw0JZ3yNxCAEVsDTbfJ23l5fBWl9jpACD3m4QW252fKdICQAAACEBnuhqR/8AAA2ElSy/QMS+/KCU0AtPJegN2y3xU4zIZJgAAACAQZrtSahBaJlMCGf//p4QAABFln2/wEzEJlbKhnjZsVsdiu1SI2Mpk53lgDNGzog2IKJ0cRaNblBQI4iDpy+0XrwvOXK3sVSxjnowm4c46MsXQ0/VyYhuG6mMkNleG5jiZTMlzmDQuTAxH7pFmctmLoNF/cXyP20TTy9KMmforFEAAAArQZ8LRREsI/8AABa1Lc1QBWpROmmKCPHe5oPY3JdIug4KgAAf9wJxt805IQAAABoBnyp0R/8AACO4s1TEQgE55WTA7FlDPZ6TgQAAAB4BnyxqR/8AACKyMkaaTkzfsgItp/j6IxIQ8ztESoEAAABcQZsxSahBbJlMCGf//p4QAAADA7RTkuRIOkPXjdgL5gADNUO6kzwyLH5PznU8tuACehsliu8m983VKliNhMMkwLYyY6PMvJLhsH0CJ0y2pmHkT4hqv4fe8XveXGAAAAAvQZ9PRRUsI/8AAAMBNbBPs6TL/YCqN2aAFkRJolFvdS1ySGEqfj4mXJSPmcpZO2YAAAAZAZ9udEf/AAADAeSBXccUUtzCxLcw3J/VsQAAAC4Bn3BqR/8AACOwKUQAjDnqHNRKvzfMO/mLKQbUrDl+tTsv/hsB0CgsBBEH49mAAAAANEGbdUmoQWyZTAhn//6eEAAACe8DK6Tww3OGUVpE7sUDtZwdX/ACcO1qIfS4s39PciuFvdAAAAA4QZ+TRRUsI/8AAAMDOMsVKkx+lLVMW8IC2CtadriRNuQAakDXup2NQnacEBapw3JuIkqPczcmjt0AAAAgAZ+ydEf/AAAFIJCENwPylAYHySHarZFcMh8VEq9l7JMAAAAYAZ+0akf/AAAFHTAT+orq8dEJyW79BZR9AAAANEGbuUmoQWyZTAhn//6eEAAACfAEG43mkoWPhEa0UeRAvYEYPhw1XAFZ8SwhaoBUMf7B7mAAAAAqQZ/XRRUsI/8AAAMDOTB58Yg9G1RlfgAB74n+m386G39iL20zenVYmz+DAAAAFgGf9nRH/wAABSCj2a4y59SP9cqwrYEAAAAXAZ/4akf/AAAFHzCXVpGdpwN7ctBKLbgAAAAmQZv9SahBbJlMCGf//p4QAAAJ/7P3ayfEDwFpuMshkTyirBrgx4AAAAAZQZ4bRRUsI/8AAAMDOE1mTAw5Lsr+4MoYMQAAABMBnjp0R/8AAAUcUmnVSyWQJAPaAAAAFQGePGpH/wAAAwHlyVGG5cRqWVyhgwAAAHNBmiFJqEFsmUwIZ//+nhAAAEVFIQy8ANvrpV5wHBEhEDZ1FQMRZHNEFauR7yfe5IEe6h4Kxpz42rM/27DPYi109ln63mWLpaq6wkztWvCpvmL1kKcIoL3ywpTqs+5JUCXvhsp0uBlAWjVliaha8VGUSm2BAAAALEGeX0UVLCP/AAAWt+sKeDe9arjopSNV4E2cr4bUrTe2uADnAbQO4DoZgJ+zAAAAJAGefnRH/wAAI8hrrJFNb0l26XB974zPoC26Ujm/DoaCqIj8GQAAABcBnmBqR/8AAA2HXXKJtZlDHapiPFIO6AAAAFJBmmVJqEFsmUwIZ//+nhAAAEVVDW5poBNKXC0NMcyr7Cd7sEcxFH37qe6TTghU8c1Q68bn38Wn+JPZ9dV7UYvMR0mYhCrFeKUT4k6vh7rCnY3dAAAAJkGeg0UVLCP/AAAWuTjK6VPPwKq8DK0G4go0leWjyoAWKF68GMSTAAAAMQGeonRH/wAAI6v4W3gjCGM38WMoT5W6yMAAFvF8AT0bhCb1wUnprU2K5tiEKPekySYAAAAXAZ6kakf/AAAjvu4NzcuaHJPe/Z+V2DAAAAAXQZqpSahBbJlMCGf//p4QAAADAAADAz8AAAAWQZ7HRRUsI/8AABbAmipnZB9tyq6D1wAAABIBnuZ0R/8AACOr+GeA5IMg4UEAAAASAZ7oakf/AAAjscwqoqAtwXYMAAAALkGa7UmoQWyZTAhn//6eEAAARVIDcw7aAEbKoWAfqtaUnBuhC80+vnYRopYS/IEAAAAVQZ8LRRUsI/8AABa8Q8+EK5ObxBHxAAAAEwGfKnRH/wAAI7jB7HrFQZzAPXEAAAASAZ8sakf/AAAjscwqoqAtwXYNAAAAHkGbMUmoQWyZTAhn//6eEAAARVH19Yk4N2jdYjrJeAAAADJBn09FFSwj/wAAFrxDz4Uvh2rdwA2zyPI6igUUImObVjP8gJYNRnyZHE+1t3k5GF9swAAAABwBn250R/8AAAMAGl6MPBobE7OcmNQ9WnSeS23BAAAAHAGfcGpH/wAAI77tkSh1nxG1ZKBcppex6Bd5+qAAAABaQZt1SahBbJlMCGf//p4QAABFUgOLZGgBenvJAbWdcfOIO4UcmGudZwtSVXZ31HJmEhajXjWIlx15GWQm0e+ij62hVSagbkGHxeQLSNySa7iewsvnrzx9mo7tAAAAIEGfk0UVLCP/AAAWtUQHjEbUlZnhDmtxdByUjo2mZtmBAAAAJgGfsnRH/wAAI6v4Z4DkAwMGQALqJa80rrjvtGcEzXBUP9+ma7BhAAAAHwGftGpH/wAAAwC6ZhK+aPeKbKac6PFyVNEc+zS4jwcAAABAQZu5SahBbJlMCF///oywAAADAW3jOXZgvTZntrDeQdUhAJsz00M0xS0nHXKRsj4azJV2V9Q9OaES+5dq+/dmLAAAAEZBn9dFFSwj/wAAFrMsVGqAK3rGvujsJ2aFkoO+GL8TuGFRy6Osg5unFIgUxm4EI5RdsIMzzkiBGRvh+Rz+h8h216qziTVgAAAAHwGf9nRH/wAAI6v4W3sShqBbeHoiaaFM49ZtwWv0UMEAAAAdAZ/4akf/AAAjscwJcGwhMPB0Xt5y10HXr4+F++YAAABCQZv9SahBbJlMCF///oywAABGEbDITV4hyQxMvYdUkKrV8ACn8P98WL9QqO2ZAB7qcpuyxtaOIdVihNl53PYbOyuAAAAAL0GeG0UVLCP/AAAWtUQFfRvUDrzI26Deb3x26YFwAck1r6OE6fMn2Is0B/rnadIDAAAAHAGeOnRH/wAAI6v4XC6zi7hO+dpNfAkj8jZmTBgAAAAfAZ48akf/AAAjqN5K+4WPDnDYe+f2ZUkORQb9S4NiAwAAACJBmj9JqEFsmUwUTDP//p4QAAAaWSOI0DvfwzX8aTLlJ0MvAAAAGwGeXmpH/wAAI65ePYXqShMhab1L+Eqc/PeJeAAAAHdBmkNJ4QpSZTAhn/6eEAAARVTGLAkAT96l1ZIH18rq+Vqeo1qs0rx8XHILS4VtSK2x7weHswWSD3iNigkmhC9lMFY9zUEBF3iIawc3htMaQAWxCZsPh2q1b/XWRhFeL+snxshf/5zLoTHupTvZqN+lvzu7AL1r7QAAADZBnmFFNEwj/wAAFrUtzVAESDjzNgdWay+KW3IDj807W2s/6HdyRxQabnxI+hhzu2WNBBQklYMAAAAiAZ6AdEf/AAAjsKuqHO7mfwujafataUKRot7NY1/8WU/wYQAAABoBnoJqR/8AACKyNP0goaMPnqjR4A7A/t8vmQAAAClBmodJqEFomUwIX//+jLAAAEYUxbhTX4ndtI/QErC7gzA+BRw+QuwpIAAAABtBnqVFESwj/wAAFrkznBO0dHU8xtOqxEvQwcAAAAAjAZ7EdEf/AAAjws0X5JboAFkIzNhNfXtgv4rtshimdnboBg0AAAASAZ7Gakf/AAAjscwqoqAtwXYMAAAAWEGaykmoQWyZTAhn//6eEAAARXC2+9d+TAnTOu5O3LSnUaq7gAaZ2JoMH1nDeRQB1ZuC5yzuvG/4QRMRdnYjwmV1GsDjndL/s7c03dbAH3ued7gsa+aSeKMAAAAfQZ7oRRUsI/8AABa1K0R0F1HbbN7//iJyUS7xb688GAAAABgBnwlqR/8AAAMAGmkqXrVfN+tES3N4/BkAAAB3QZsOSahBbJlMCGf//p4QAABFSJcgGr68Fnt+cE4bsKLl0x0E04y5HmvKbLc8TdeBBh5E5ZfOQEUdw9fM9rB0YmYwz5Bval4osWUYAt4dQQ/12iIW9GVH9KB5QCOJyL832bxD5byT7PrOu6jydhJuMtl4Ix95ncEAAAAsQZ8sRRUsI/8AABa1Wv5fLmw4lwAOLCMgble/7Eri7ianR+tVh2ppZCOstmEAAAAVAZ9LdEf/AAAjw0AQrr3zoO6OIQPTAAAANAGfTWpH/wAAAwHmfpbOSnqOIdqhUuyGvpNDhXzLAABNLmnxTb0y0sgZq29UIMDLI2w+2YAAAAAuQZtSSahBbJlMCGf//p4QAAADA7RSik4cVE83H8ZCL6HDYnB5311ptsKQCkmBOAAAACpBn3BFFSwj/wAAAwE0tiWyeiXxFY5K9AAAQeLcljL8LxogA57RDKoFtmEAAAAXAZ+PdEf/AAADAeWH2v/ghNaTESq1wd0AAAAdAZ+Rakf/AAADAeXK92QP32jvzDjQ7+MMKqQRrbgAAABJQZuWSahBbJlMCGf//p4QAAADA7Sa5Wd7I2Tc55ALggRVrFgCH9KzHYsjC++nGRkFTj9HykkUKUQjrrI/YrxRCsnY19cTc7Lx4QAAAB5Bn7RFFSwj/wAAAwE1r4bOkxm8k+DnIHfJWAvHwYEAAAASAZ/TdEf/AAADAeW6JAonYAHXAAAAGwGf1WpH/wAAAwHmLaGOrn74rLn51jDXVi32zAAAADdBm9pJqEFsmUwIZ//+nhAAAAMDueoqkuiFBOABB1fQ0W/o+KuLNGX38adw+Maz7TspjcHs1NmAAAAAH0Gf+EUVLCP/AAADATX9Bjg7WSpax/QGrS1JAEdm24EAAAAjAZ4XdEf/AAADAeavj/kYJS+mABD8M/qqLlNsY5CP+aJrbZgAAAAVAZ4Zakf/AAADAeb9gn2ajackEgU0AAAALEGaHkmoQWyZTAhn//6eEAAARUiXIBq+vBZ/ywBBl8ui1anZmlaqXrmLKsO7AAAAJkGePEUVLCP/AAAWuTkB33lpMluEoo8mqSkUBkXrJMMxUb4lHu2YAAAAHAGeW3RH/wAAI8NAEMOGciuBsNt34ij12kWa8gMAAAAdAZ5dakf/AAAjsjE6/T1sH3O1vOPL8ZOooy3B4MEAAAA3QZpCSahBbJlMCGf//p4QAAADAWr09VTW8Rp/WipI2o1poAiwP/2+e5uw4htjdDa9I8zarckegAAAAClBnmBFFSwj/wAAAwBz/6TdrakM0AJVTtEEokL7Dp6K65K14z6tqG/BgQAAABYBnp90R/8AAAMAueH06bnTKHY1H+G9AAAAJQGegWpH/wAAAwBFqkIALn92+sT2QGnikHRjP0waFgoip267Dt0AAAA8QZqGSahBbJlMCGf//p4QAABFTmJSAJ9wJq8DjTDAaJi55jO3fVFbvuQteW+tVbmzs5DcAyr21SQ2CX5BAAAAFEGepEUVLCP/AAAWtStDIPrT94EfAAAAEgGew3RH/wAAI8MXdVFQ0STCggAAAA4BnsVqR/8AAAMAAAMBqQAAABdBmspJqEFsmUwIZ//+nhAAAAMAAAMDPgAAACtBnuhFFSwj/wAAAwAQVqe2AAkfkU74Yc8i4bEdkiGsyg8J1e7M/4w5EVihAAAAFwGfB3RH/wAAAwAaa7prSQig/Vx0Vf2zAAAAGgGfCWpH/wAAAwAaawWhrP8DXTVj376EeGO3AAAANkGbDkmoQWyZTAhn//6eEAAARWtFmys0k4N2/DA4hYAl/blKSwjvmc4pspxJwsTWCSAuGtKVnQAAABpBnyxFFSwj/wAAFrUrQyD61CdAA1ZbG/g9cQAAABIBn0t0R/8AACOr+GeA5IMg4UEAAAA0AZ9Nakf/AAAjrl+PUgBExYu3HYKtKnEaQFX8iA4BsREVntxwLBq3NtcRFUG2pNpW9hkbZgAAAEhBm1JJqEFsmUwIZ//+nhAAAEVFKLQBWosjgvYRArOke6ChDq3i+N1c4rCbE2ftrE80OfqMnW1X4PXOZ47pbXHvU40nqwW5YxYAAAAsQZ9wRRUsI/8AABa1KzdrX9X8qEVoWUOYYpABCZ+U1iGQaYM/72GKJRPhSsUAAAAaAZ+PdEf/AAAjwuy0g+fENMjjH0qivRTNdswAAAAlAZ+Rakf/AAAFHTATyI+Fc2UABBex9G9/ZA4oAZB27CmyNETnqgAAAD5Bm5ZJqEFsmUwIZ//+nhAAAEOemGxYj+/hmv40f9pwHbs4aZd8/vgXOADaDd8D3sr5V2YbGGK9Mtk+ZJQiYQAAABtBn7RFFSwj/wAAFixPjpTBIykcdCMZR7HIFtEAAAATAZ/TdEf/AAAFII0Bvt8WHBoBNwAAABkBn9VqR/8AACK/HFkKBie0F7sIJcZciDagAAAALEGb2kmoQWyZTAhn//6eEAAAGbc64AzF8L+pu8+Oe+RE+h1tgyBhS6aRaoZUAAAAHkGf+EUVLCP/AAADABAk4Mwkm2IIecckjo+ydAd6xQAAABsBnhd0R/8AAAMAGm9h2mTpeBs2mAdAm9PvXbcAAAAYAZ4Zakf/AAADABppKl61XzfrREtzePwYAAAAPUGaHkmoQWyZTAhn//6eEAAARUZ7oAE/2ksU4nOKIyis1h9sGmQbykc/VG+/RO8NhsCR5gQ4+NQR1N1w3PkAAAAuQZ48RRUsI/8AABa8TuNoAwxKhsLI5L/4AQK5I4CkZRrlkbz6UAzUpXihtkZltwAAABQBnlt0R/8AAAMAGmu6XtklVN9iwQAAADcBnl1qR/8AACO9lgRvuVUAFrP6YKns2/FqSVo6w105ZS5uc1pIDcSKyy2Z2gCdDrG1mRVdInbhAAAAM0GaQkmoQWyZTAhn//6eEAAARVFIXgpsovRu3q2yPS4hd8cdjJNGomAuEALOvLI92sEU1gAAACtBnmBFFSwj/wAAFrUtzVAHJh7rGp21CrNPzWw5Anx+khejJlEaDtDjg7knAAAAHwGen3RH/wAAI7izVMRAqrkAC4YOeTtbWoe6EGqUAZUAAAApAZ6Bakf/AAAivxxYr4XbSYAEqFhs/QQzbxakFMMzv7zMPEEbP728HJEAAAB8QZqGSahBbJlMCF///oywAABGDmarx9fRzUAAg9Fwl9BjJuqru/pTCLEOlgb3n2LgM5Ia0fsqVC7YHtNgmAkAr4dfVTVJdmvluISjqbG8aFxPQfIwwbI/Mg5Dr7oEqOxa0ElUfSCcZHW3GQI13pjPu2EiQ9WP0yqDI85tEQAAADdBnqRFFSwj/wAAFrUfBiABYA6zxsHXLwgioyKqBw5Bf5BWE4+tsOpMktZoWwerO5+r347QlnJAAAAAGwGew3RH/wAAI6wKoGstbe1qyhredHGD0WRO3AAAABUBnsVqR/8AAAMAumYSz30J7ZT4b0EAAAAsQZrKSahBbJlMCF///oywAAAKBioIKh/HumyFlF3vwno6PGlNK+tzMiZAO6AAAAA2QZ7oRRUsI/8AAAMDOTG0W/Weo3v0AL+orgNT28r/JimTGyj2WHoj/eLQkoJETqoV1MhyKztxAAAAHgGfB3RH/wAAAwHmr46EqpG0deD6xIE/2qXwMSLbgAAAADIBnwlqR/8AAAUfNN9IawGh3wqZY4lneAwAcGh5qrfR9VUcToptHilDKzuy/1vvT0fbMQAAAFZBmw5JqEFsmUwIX//+jLAAABqHVBBNMw/PY8hIZePzYyHSp6EHLz4G0KsVubat6jjJVHv4QeBGIbv5rLgzAPwqz+i9UMtUKerVkkLX1MdtYP2UxThmgQAAAB9BnyxFFSwj/wAAAwM4yTZnSRHsvW9nbm0OZcwOVnbhAAAAFAGfS3RH/wAABRz1jdEG9XjUgHtBAAAAGwGfTWpH/wAADYIw+zE/M43Na0JM85HkIEztmAAAADxBm1BJqEFsmUwUTC///oywAAAaiSwaZShTu4B4GJJ5JPZArJOJs4jtejNJM7Jq4tehjteC3rl6x4r8+YAAAAAZAZ9vakf/AAANgj3xSLxy6hdxPfb23p9RIwAAAFpBm3RJ4QpSZTAhf/6MsAAARgMXca8fRfd9k4ARgaUJdY2WbZ0sDgKOBB2woOFP/Nda9tsNsqWDj+iE2bSmVwmNxcc9h5M0mYs3c60Bykd6poqO9/jJR2pesUAAAAAgQZ+SRTRMI/8AABa7lB2c4FuhPc/8uLSO4ccrq1EA9swAAAAmAZ+xdEf/AAAjwxdp+Ir57sE+KEyQADfzP6Y2pAkBKUADFNU+YSsAAAATAZ+zakf/AAAjvwQrwHKL1EdgwQAAAEBBm7hJqEFomUwIT//98QAAAwKfyGxj4ARgVdrqj4cXMpch5sieKyi0fY69xRZiguW8CUAT9OGZ5ORAh4EaBp8fAAAAG0Gf1kURLCP/AAAWtStDIrtfUHdn4yY+Xfo7iwAAABIBn/V0R/8AACPDF3VRUNEkwoIAAAAWAZ/3akf/AAADAAo+YSCa1yrQCxH/iwAAADVBm/lJqEFsmUwI//yEAAADAASUjIBcqr3NkssQAcbrueuttofZP1kQKt4xpUQuWgk0fOiYTgAAAcJliIQAK//+9nN8CmtHM5UuBXb3ZqPl0JLl+xBg+tAAAAMAAAMAAE3FRM6LCmPE2QAAAwBcQBHgsAjwlQthIR9jpDJwJjYgCtOXC8LjrjH4BTW8VZhvIDxgcvcq1AT1Z1uxg4JVejoECY/Igd6zCj3YB36hyrK3FmtHSXZRuBblvuNLpT1d600jn7D6OtXBajUJZn4eeKJZ++D5KfrV1HXUeKkDzTbxJJHJK+UXXPyy4CiXjUl3VlI6dPIESnc8W+nsJ5LXtBID1rAC8/nG1mFj7KsykpUVPf14BSp0hcxsSaIWhQA8EgyH6I5PsnLOaCdkAz2DaWD5DMokmDxY6YmLl1Cr+Y6gUYAABrCKGpnkt3tCMmEXV/DyLEkAE8HchEtiGYGYOtb9CUa1eIGOlxiMBWY0ncMAAF4GrYLrukdNBdk1M1+bc/j0kV7v/+EVkHndyk5k8KUXLWYZkpll5Jg3jEI0uZkl3zwpHfJWJ3mFaS58GlYMciQzvhY3Lsg1hsxtDYmFW7cz6JeIAAge6it2wBH6TjazZ3IS+jiDZDXeEBnY3I4JVgfr4KePFLr27VmChZg+bVxYQAAAAwAAAwAA2YAAABpvbW9vdgAAAGxtdmhkAAAAAAAAAAAAAAAAAAAD6AAAJyQAAQAAAQAAAAAAAAAAAAAAAAEAAAAAAAAAAAAAAAAAAAABAAAAAAAAAAAAAAAAAABAAAAAAAAAAAAAAAAAAAAAAAAAAAAAAAAAAAAAAAAAAgAAGZl0cmFrAAAAXHRraGQAAAADAAAAAAAAAAAAAAABAAAAAAAAJyQAAAAAAAAAAAAAAAAAAAAAAAEAAAAAAAAAAAAAAAAAAAABAAAAAAAAAAAAAAAAAABAAAAAAlgAAAGQAAAAAAAkZWR0cwAAABxlbHN0AAAAAAAAAAEAACckAAACAAABAAAAABkRbWRpYQAAACBtZGhkAAAAAAAAAAAAAAAAAAAyAAAB9QBVxAAAAAAALWhkbHIAAAAAAAAAAHZpZGUAAAAAAAAAAAAAAABWaWRlb0hhbmRsZXIAAAAYvG1pbmYAAAAUdm1oZAAAAAEAAAAAAAAAAAAAACRkaW5mAAAAHGRyZWYAAAAAAAAAAQAAAAx1cmwgAAAAAQAAGHxzdGJsAAAAmHN0c2QAAAAAAAAAAQAAAIhhdmMxAAAAAAAAAAEAAAAAAAAAAAAAAAAAAAAAAlgBkABIAAAASAAAAAAAAAABAAAAAAAAAAAAAAAAAAAAAAAAAAAAAAAAAAAAAAAAAAAAGP//AAAAMmF2Y0MBZAAf/+EAGWdkAB+s2UCYM+XhAAADAAEAAAMAZA8YMZYBAAZo6+PLIsAAAAAYc3R0cwAAAAAAAAABAAAB9QAAAQAAAAAcc3RzcwAAAAAAAAADAAAAAQAAAPsAAAH1AAAPkGN0dHMAAAAAAAAB8AAAAAEAAAIAAAAAAQAABQAAAAABAAACAAAAAAEAAAAAAAAAAQAAAQAAAAABAAADAAAAAAEAAAEAAAAAAQAABQAAAAABAAACAAAAAAEAAAAAAAAAAQAAAQAAAAABAAAFAAAAAAEAAAIAAAAAAQAAAAAAAAABAAABAAAAAAEAAAUAAAAAAQAAAgAAAAABAAAAAAAAAAEAAAEAAAAAAQAAAwAAAAABAAABAAAAAAEAAAUAAAAAAQAAAgAAAAABAAAAAAAAAAEAAAEAAAAAAQAABQAAAAABAAACAAAAAAEAAAAAAAAAAQAAAQAAAAABAAAFAAAAAAEAAAIAAAAAAQAAAAAAAAABAAABAAAAAAEAAAUAAAAAAQAAAgAAAAABAAAAAAAAAAEAAAEAAAAAAQAABQAAAAABAAACAAAAAAEAAAAAAAAAAQAAAQAAAAABAAAFAAAAAAEAAAIAAAAAAQAAAAAAAAABAAABAAAAAAEAAAUAAAAAAQAAAgAAAAABAAAAAAAAAAEAAAEAAAAAAQAABQAAAAABAAACAAAAAAEAAAAAAAAAAQAAAQAAAAABAAAFAAAAAAEAAAIAAAAAAQAAAAAAAAABAAABAAAAAAEAAAUAAAAAAQAAAgAAAAABAAAAAAAAAAEAAAEAAAAAAQAABQAAAAABAAACAAAAAAEAAAAAAAAAAQAAAQAAAAABAAAFAAAAAAEAAAIAAAAAAQAAAAAAAAABAAABAAAAAAEAAAUAAAAAAQAAAgAAAAABAAAAAAAAAAEAAAEAAAAAAQAABQAAAAABAAACAAAAAAEAAAAAAAAAAQAAAQAAAAABAAAFAAAAAAEAAAIAAAAAAQAAAAAAAAABAAABAAAAAAEAAAUAAAAAAQAAAgAAAAABAAAAAAAAAAEAAAEAAAAAAQAABQAAAAABAAACAAAAAAEAAAAAAAAAAQAAAQAAAAABAAAFAAAAAAEAAAIAAAAAAQAAAAAAAAABAAABAAAAAAEAAAUAAAAAAQAAAgAAAAABAAAAAAAAAAEAAAEAAAAAAQAABQAAAAABAAACAAAAAAEAAAAAAAAAAQAAAQAAAAABAAAFAAAAAAEAAAIAAAAAAQAAAAAAAAABAAABAAAAAAEAAAMAAAAAAQAAAQAAAAABAAAFAAAAAAEAAAIAAAAAAQAAAAAAAAABAAABAAAAAAEAAAIAAAAAAQAABQAAAAABAAACAAAAAAEAAAAAAAAAAQAAAQAAAAABAAAFAAAAAAEAAAIAAAAAAQAAAAAAAAABAAABAAAAAAEAAAUAAAAAAQAAAgAAAAABAAAAAAAAAAEAAAEAAAAAAQAABQAAAAABAAACAAAAAAEAAAAAAAAAAQAAAQAAAAABAAAFAAAAAAEAAAIAAAAAAQAAAAAAAAABAAABAAAAAAEAAAUAAAAAAQAAAgAAAAABAAAAAAAAAAEAAAEAAAAAAQAABQAAAAABAAACAAAAAAEAAAAAAAAAAQAAAQAAAAABAAAFAAAAAAEAAAIAAAAAAQAAAAAAAAABAAABAAAAAAEAAAUAAAAAAQAAAgAAAAABAAAAAAAAAAEAAAEAAAAAAQAABQAAAAABAAACAAAAAAEAAAAAAAAAAQAAAQAAAAABAAAFAAAAAAEAAAIAAAAAAQAAAAAAAAABAAABAAAAAAEAAAUAAAAAAQAAAgAAAAABAAAAAAAAAAEAAAEAAAAAAQAABQAAAAABAAACAAAAAAEAAAAAAAAAAQAAAQAAAAABAAACAAAAAAEAAAUAAAAAAQAAAgAAAAABAAAAAAAAAAEAAAEAAAAAAQAABQAAAAABAAACAAAAAAEAAAAAAAAAAQAAAQAAAAABAAAFAAAAAAEAAAIAAAAAAQAAAAAAAAABAAABAAAAAAEAAAUAAAAAAQAAAgAAAAABAAAAAAAAAAEAAAEAAAAAAQAABQAAAAABAAACAAAAAAEAAAAAAAAAAQAAAQAAAAABAAAFAAAAAAEAAAIAAAAAAQAAAAAAAAABAAABAAAAAAEAAAUAAAAAAQAAAgAAAAABAAAAAAAAAAEAAAEAAAAAAQAABQAAAAABAAACAAAAAAEAAAAAAAAAAQAAAQAAAAABAAAFAAAAAAEAAAIAAAAAAQAAAAAAAAABAAABAAAAAAEAAAUAAAAAAQAAAgAAAAABAAAAAAAAAAEAAAEAAAAAAQAABQAAAAABAAACAAAAAAEAAAAAAAAAAQAAAQAAAAABAAAFAAAAAAEAAAIAAAAAAQAAAAAAAAABAAABAAAAAAEAAAUAAAAAAQAAAgAAAAABAAAAAAAAAAEAAAEAAAAAAQAABQAAAAABAAACAAAAAAEAAAAAAAAAAQAAAQAAAAABAAAFAAAAAAEAAAIAAAAAAQAAAAAAAAABAAABAAAAAAEAAAUAAAAAAQAAAgAAAAABAAAAAAAAAAEAAAEAAAAAAQAABQAAAAABAAACAAAAAAEAAAAAAAAAAQAAAQAAAAABAAAFAAAAAAEAAAIAAAAAAQAAAAAAAAABAAABAAAAAAEAAAUAAAAAAQAAAgAAAAABAAAAAAAAAAEAAAEAAAAAAQAABQAAAAABAAACAAAAAAEAAAAAAAAAAQAAAQAAAAABAAAFAAAAAAEAAAIAAAAAAQAAAAAAAAABAAABAAAAAAIAAAIAAAAAAQAABQAAAAABAAACAAAAAAEAAAAAAAAAAQAAAQAAAAABAAAFAAAAAAEAAAIAAAAAAQAAAAAAAAABAAABAAAAAAEAAAUAAAAAAQAAAgAAAAABAAAAAAAAAAEAAAEAAAAAAQAABQAAAAABAAACAAAAAAEAAAAAAAAAAQAAAQAAAAABAAAFAAAAAAEAAAIAAAAAAQAAAAAAAAABAAABAAAAAAEAAAUAAAAAAQAAAgAAAAABAAAAAAAAAAEAAAEAAAAAAQAABQAAAAABAAACAAAAAAEAAAAAAAAAAQAAAQAAAAABAAAFAAAAAAEAAAIAAAAAAQAAAAAAAAABAAABAAAAAAEAAAUAAAAAAQAAAgAAAAABAAAAAAAAAAEAAAEAAAAAAQAABQAAAAABAAACAAAAAAEAAAAAAAAAAQAAAQAAAAABAAAFAAAAAAEAAAIAAAAAAQAAAAAAAAABAAABAAAAAAEAAAUAAAAAAQAAAgAAAAABAAAAAAAAAAEAAAEAAAAAAQAABQAAAAABAAACAAAAAAEAAAAAAAAAAQAAAQAAAAABAAAFAAAAAAEAAAIAAAAAAQAAAAAAAAABAAABAAAAAAEAAAUAAAAAAQAAAgAAAAABAAAAAAAAAAEAAAEAAAAAAQAABQAAAAABAAACAAAAAAEAAAAAAAAAAQAAAQAAAAABAAAFAAAAAAEAAAIAAAAAAQAAAAAAAAABAAABAAAAAAEAAAUAAAAAAQAAAgAAAAABAAAAAAAAAAEAAAEAAAAAAQAABAAAAAACAAABAAAAAAEAAAUAAAAAAQAAAgAAAAABAAAAAAAAAAEAAAEAAAAAAQAABQAAAAABAAACAAAAAAEAAAAAAAAAAQAAAQAAAAABAAAFAAAAAAEAAAIAAAAAAQAAAAAAAAABAAABAAAAAAEAAAQAAAAAAgAAAQAAAAABAAAFAAAAAAEAAAIAAAAAAQAAAAAAAAABAAABAAAAAAEAAAUAAAAAAQAAAgAAAAABAAAAAAAAAAEAAAEAAAAAAQAAAwAAAAABAAABAAAAAAEAAAIAAAAAAQAABQAAAAABAAACAAAAAAEAAAAAAAAAAQAAAQAAAAABAAAFAAAAAAEAAAIAAAAAAQAAAAAAAAABAAABAAAAAAEAAAUAAAAAAQAAAgAAAAABAAAAAAAAAAEAAAEAAAAAAQAABQAAAAABAAACAAAAAAEAAAAAAAAAAQAAAQAAAAABAAAFAAAAAAEAAAIAAAAAAQAAAAAAAAABAAABAAAAAAEAAAUAAAAAAQAAAgAAAAABAAAAAAAAAAEAAAEAAAAAAQAABQAAAAABAAACAAAAAAEAAAAAAAAAAQAAAQAAAAABAAAFAAAAAAEAAAIAAAAAAQAAAAAAAAABAAABAAAAAAEAAAUAAAAAAQAAAgAAAAABAAAAAAAAAAEAAAEAAAAAAQAABQAAAAABAAACAAAAAAEAAAAAAAAAAQAAAQAAAAABAAAFAAAAAAEAAAIAAAAAAQAAAAAAAAABAAABAAAAAAEAAAUAAAAAAQAAAgAAAAABAAAAAAAAAAEAAAEAAAAAAQAABQAAAAABAAACAAAAAAEAAAAAAAAAAQAAAQAAAAABAAAFAAAAAAEAAAIAAAAAAQAAAAAAAAABAAABAAAAAAEAAAMAAAAAAQAAAQAAAAABAAAFAAAAAAEAAAIAAAAAAQAAAAAAAAABAAABAAAAAAEAAAUAAAAAAQAAAgAAAAABAAAAAAAAAAEAAAEAAAAAAQAABAAAAAACAAABAAAAAAEAAAUAAAAAAQAAAgAAAAABAAAAAAAAAAEAAAEAAAAAAQAABQAAAAABAAACAAAAAAEAAAAAAAAAAQAAAQAAAAABAAAFAAAAAAEAAAIAAAAAAQAAAAAAAAABAAABAAAAAAEAAAUAAAAAAQAAAgAAAAABAAAAAAAAAAEAAAEAAAAAAQAABQAAAAABAAACAAAAAAEAAAAAAAAAAQAAAQAAAAABAAAFAAAAAAEAAAIAAAAAAQAAAAAAAAABAAABAAAAAAEAAAUAAAAAAQAAAgAAAAABAAAAAAAAAAEAAAEAAAAAAQAABQAAAAABAAACAAAAAAEAAAAAAAAAAQAAAQAAAAABAAAFAAAAAAEAAAIAAAAAAQAAAAAAAAABAAABAAAAAAEAAAUAAAAAAQAAAgAAAAABAAAAAAAAAAEAAAEAAAAAAQAABQAAAAABAAACAAAAAAEAAAAAAAAAAQAAAQAAAAABAAAFAAAAAAEAAAIAAAAAAQAAAAAAAAABAAABAAAAAAEAAAUAAAAAAQAAAgAAAAABAAAAAAAAAAEAAAEAAAAAAQAABQAAAAABAAACAAAAAAEAAAAAAAAAAQAAAQAAAAABAAAFAAAAAAEAAAIAAAAAAQAAAAAAAAABAAABAAAAAAEAAAUAAAAAAQAAAgAAAAABAAAAAAAAAAEAAAEAAAAAAQAABQAAAAABAAACAAAAAAEAAAAAAAAAAQAAAQAAAAABAAADAAAAAAEAAAEAAAAAAQAABQAAAAABAAACAAAAAAEAAAAAAAAAAQAAAQAAAAABAAAFAAAAAAEAAAIAAAAAAQAAAAAAAAABAAABAAAAAAIAAAIAAAAAHHN0c2MAAAAAAAAAAQAAAAEAAAH1AAAAAQAAB+hzdHN6AAAAAAAAAAAAAAH1AAAEwwAAAKsAAAA/AAAARwAAADMAAABoAAAAOgAAAIgAAAArAAAAJAAAADIAAABjAAAAQAAAACIAAAAiAAAAagAAAEwAAAA2AAAAIQAAAE0AAAAnAAAAXQAAAFAAAAAqAAAAIwAAAIkAAABWAAAAKwAAADkAAABfAAAALQAAACgAAAAvAAAAZAAAADUAAAA5AAAAPAAAAFkAAABHAAAAJAAAADMAAABkAAAAKQAAACAAAAAtAAAAagAAADwAAAAjAAAALQAAAFwAAAAtAAAAGQAAAB8AAABIAAAAOwAAACQAAAAhAAAAYgAAAE0AAAA1AAAAKAAAAFEAAAAzAAAAKQAAAB8AAABSAAAAJQAAACgAAAAsAAAASQAAADsAAAA1AAAAKAAAAEgAAAAlAAAAKQAAABkAAAA4AAAANQAAACMAAAAsAAAAZAAAACYAAAAaAAAANQAAAFwAAAAnAAAAFQAAADgAAABHAAAAOgAAACUAAAAhAAAAWgAAAC0AAAAcAAAANAAAAFQAAAA4AAAAJwAAACMAAABMAAAAKAAAAC8AAAAgAAAAhQAAADAAAAA8AAAAMwAAADUAAAAmAAAANwAAAFsAAAAqAAAAMgAAACYAAABeAAAAUwAAACIAAABKAAAAVQAAAEsAAAAuAAAAIQAAABsAAAA1AAAAJQAAACEAAAB1AAAAKwAAABwAAAAkAAAALgAAACAAAAApAAAAHQAAAEEAAAAjAAAAHAAAACUAAAAxAAAAIgAAABwAAAAcAAAANQAAACIAAAAeAAAAFgAAAGQAAAAlAAAAGwAAACMAAABHAAAAUwAAAB0AAAAiAAAAWAAAADcAAAA+AAAAIgAAAE4AAAA6AAAALwAAACYAAACXAAAAPgAAAEoAAAAnAAAANwAAAC0AAAAsAAAAHAAAADUAAAAkAAAAHAAAABgAAAAXAAAAPgAAAB0AAAAXAAAAGQAAAH0AAABNAAAAMgAAACgAAAB0AAAATAAAACwAAAAtAAAAPQAAADIAAAAXAAAAIAAAAEkAAAAvAAAAKwAAACIAAAA3AAAAHgAAACsAAAApAAAAJQAAABoAAAAVAAAAIgAAAEEAAAAdAAAAKQAAABoAAAAmAAAAHAAAACwAAAAoAAAAGwAAADAAAAAVAAAAFgAAACwAAAAaAAAAFAAAAC8AAAAbAAAAMwAAABsAAAAfAAAAcQAAADUAAAAWAAAAMAAAADQAAAAuAAAAHQAAABsAAABnAAAAMwAAABsAAAAdAAAASgAAACAAAAAXAAAAGgAAAEsAAAA0AAAAHQAAACoAAAA2AAAAJQAAAB4AAAAhAAAAJwAAAbAAAABzAAAAIwAAACcAAAAhAAAAMQAAADAAAAAYAAAAKQAAAIUAAAA4AAAAHQAAACsAAABOAAAAJAAAABoAAAAaAAAAfQAAAEIAAAA2AAAAJAAAAGkAAAA3AAAAOAAAACUAAABSAAAAJQAAADIAAAAdAAAARgAAAEIAAAAfAAAALwAAAEwAAABAAAAAIQAAACcAAAA3AAAAKgAAADMAAAAoAAAALQAAAB8AAAAgAAAAEwAAAKUAAAAkAAAAEwAAADgAAACJAAAANwAAADgAAAAxAAAARgAAACQAAAAiAAAAKgAAAEoAAAAkAAAAIQAAACUAAAA9AAAAIQAAABoAAAApAAAAMwAAACEAAAAwAAAAFAAAAFQAAABDAAAALQAAADAAAAA4AAAAHgAAACYAAAA+AAAAPAAAABwAAAAgAAAAUAAAAEUAAAAyAAAALQAAAFIAAAA2AAAAKAAAACgAAABdAAAAOgAAACAAAACPAAAAJgAAACkAAAAVAAAAYQAAADkAAAArAAAALAAAAFcAAAA9AAAAOAAAAFwAAAAsAAAALwAAACUAAACEAAAALwAAAB4AAAAiAAAAYAAAADMAAAAdAAAAMgAAADgAAAA8AAAAJAAAABwAAAA4AAAALgAAABoAAAAbAAAAKgAAAB0AAAAXAAAAGQAAAHcAAAAwAAAAKAAAABsAAABWAAAAKgAAADUAAAAbAAAAGwAAABoAAAAWAAAAFgAAADIAAAAZAAAAFwAAABYAAAAiAAAANgAAACAAAAAgAAAAXgAAACQAAAAqAAAAIwAAAEQAAABKAAAAIwAAACEAAABGAAAAMwAAACAAAAAjAAAAJgAAAB8AAAB7AAAAOgAAACYAAAAeAAAALQAAAB8AAAAnAAAAFgAAAFwAAAAjAAAAHAAAAHsAAAAwAAAAGQAAADgAAAAyAAAALgAAABsAAAAhAAAATQAAACIAAAAWAAAAHwAAADsAAAAjAAAAJwAAABkAAAAwAAAAKgAAACAAAAAhAAAAOwAAAC0AAAAaAAAAKQAAAEAAAAAYAAAAFgAAABIAAAAbAAAALwAAABsAAAAeAAAAOgAAAB4AAAAWAAAAOAAAAEwAAAAwAAAAHgAAACkAAABCAAAAHwAAABcAAAAdAAAAMAAAACIAAAAfAAAAHAAAAEEAAAAyAAAAGAAAADsAAAA3AAAALwAAACMAAAAtAAAAgAAAADsAAAAfAAAAGQAAADAAAAA6AAAAIgAAADYAAABaAAAAIwAAABgAAAAfAAAAQAAAAB0AAABeAAAAJAAAACoAAAAXAAAARAAAAB8AAAAWAAAAGgAAADkAAAHGAAAAFHN0Y28AAAAAAAAAAQAAADAAAABidWR0YQAAAFptZXRhAAAAAAAAACFoZGxyAAAAAAAAAABtZGlyYXBwbAAAAAAAAAAAAAAAAC1pbHN0AAAAJal0b28AAAAdZGF0YQAAAAEAAAAATGF2ZjU4LjI5LjEwMA==\" type=\"video/mp4\" />\n",
              "                </video>"
            ]
          },
          "metadata": {}
        }
      ]
    },
    {
      "cell_type": "markdown",
      "source": [
        "### Task 4: Explain your approach and analyze the output"
      ],
      "metadata": {
        "id": "p7W9dzXpijxb"
      }
    },
    {
      "cell_type": "markdown",
      "source": [
        "In our model, we used Proximal Policy Optimisation (PPO). It is a model-free, on-policy reinforcement learning algorithim.\n",
        "\n",
        "The algorithm works as follows: [[10]](#reference)\n",
        "\n",
        "In every iteration, there are N parallel actors. Each actor will determine the policy, π<sub>θ</sub> in the environment for T timesteps (see Actor-critic section) and subsequently compute the advantage estimates for each timestep. (see Advantage estimates section)\n",
        "\n",
        "Afterwards, the algorithm will optimise objective function L (see Objective function section), with K epochs, minibatch size M $\\leq$ NT and clipping.\n",
        "\n",
        "At the end of every iteration, the old policy is updated with the new policy within the clipping range."
      ],
      "metadata": {
        "id": "J92EXm387kz_"
      }
    },
    {
      "cell_type": "markdown",
      "source": [
        "### Actor-critic\n",
        "Unlike some other reinforcement learning algorithms, PPO focuses on the 'safe' update of the policy function to minimise the variance during training. This means that the updated policy improves by at most a certain clipping range. Here, we use ϵ = 0.2. [[4]](#reference)\n",
        "\n",
        "In the actor-critic method, we have the actor model and the critic model. In this cart pole environment, the actor model receives the 4 values - cart position, cart velocity, pole angle, and pole angular velocity. Then, it outputs the corresponding action - either 0 (to the left) or 1 (to the right). The action is performed by the agent in the cart pole environment to produce the next set of observations. The resulting observations are transformed into rewards and become inputs into the critic model. The critic model then outputs the Q-value of the action taken in the previous state. By comparing this Q-value, the actor model can update the policy function to take better actions. Intuitively, the longer the cart pole stays upright, the higher the Q-value and the better the policy will become. [[4]](#reference)"
      ],
      "metadata": {
        "id": "dXg-bVbYSE_p"
      }
    },
    {
      "cell_type": "markdown",
      "source": [
        "### Advantage estimates\n",
        "The advantage function, A<sub>t</sub>, estimates measure the degree of improvement or decline in the action taken compared to the overall expected return (cumulative rewards). [[5]](#reference) The equation is as follows: [[10]](#reference)\n",
        "\n",
        "\\begin{equation} \n",
        "  \\hat{A_t} = δ_t + (γλ)δ_{t+1} + ... + (γλ)^{T-t+1}δ_{T-1}\n",
        "\\end{equation}\n",
        "where\n",
        "\\begin{equation} \n",
        "  δ_t = r_t + γV(s_{t+1}) - V(s_t)\n",
        "\\end{equation}"
      ],
      "metadata": {
        "id": "8xztJbtrhA_1"
      }
    },
    {
      "cell_type": "markdown",
      "source": [
        "### Objective function\n",
        "The objective function L<sub>t</sub> is as follows: [[10]](#reference)\n",
        "\\begin{equation} \n",
        "  L_t(θ) = min(r_t(θ)\\hat{A_t},clip(r_t(θ)), 1 - ϵ, 1 + ϵ)\\hat{A_t}\n",
        "\\end{equation}\n",
        "\n",
        "In our case, the PPO algorithm uses Adam optimiser to optimise the objective function loss from a random samples of 64 in one epoch. 10 epochs are run on the same trajectory sample which consists of states, actions, and cumulative rewards. [[9]](#reference)\n",
        "\n",
        "In the objective function, the ratio function [[6]](#reference)\n",
        "\\begin{equation} \n",
        "  r_t(θ) = \\frac{π_θ(a_t | s_t)}{π_{θ_{old}} (a_t | s_t)}\n",
        "\\end{equation}\n",
        "is the ratio between the new policy and the old policy when the policy is updated. In our case, the maximum tolerable change in policy is 0.2 or 20%."
      ],
      "metadata": {
        "id": "lud0WbrWjXDX"
      }
    },
    {
      "cell_type": "markdown",
      "source": [
        "## Conclusion\n",
        "\n",
        "Both physics and PPO are policy-based methods and both agents perform perform very well in the cart pole environment, achieving maximum cumulative rewards on average."
      ],
      "metadata": {
        "id": "7BiS6Zc751xE"
      }
    },
    {
      "cell_type": "markdown",
      "source": [
        "## Reference"
      ],
      "metadata": {
        "id": "1XSY1zovjGTV"
      }
    },
    {
      "cell_type": "markdown",
      "source": [
        "[1] “Cart Pole - Gym Documentation.” https://www.gymlibrary.dev/environments/classic_control/cart_pole/ (accessed Mar. 18, 2023).\n",
        "\n",
        "[2] A. Raffin, “Stable Baselines3 RL tutorial.” Mar. 16, 2023. Accessed: Mar. 18, 2023. [Online]. Available: https://github.com/araffin/rl-tutorial-jnrr19\n",
        "\n",
        "[3] J. Xu, “How to Beat the CartPole Game in 5 Lines,” Medium, Feb. 21, 2021. https://towardsdatascience.com/how-to-beat-the-cartpole-game-in-5-lines-5ab4e738c93f (accessed Mar. 18, 2023).\n",
        "\n",
        "[4] C. Trivedi, “Proximal Policy Optimization Tutorial (Part 1: Actor-Critic Method),” Medium, Aug. 12, 2019. https://towardsdatascience.com/proximal-policy-optimization-tutorial-part-1-actor-critic-method-d53f9afffbf6 (accessed Mar. 18, 2023).\n",
        "\n",
        "[5] R. Tangri, “Generalized Advantage Estimate: Maths and Code,” Medium, May 12, 2021. https://towardsdatascience.com/generalized-advantage-estimate-maths-and-code-b5d5bd3ce737 (accessed Mar. 18, 2023).\n",
        "\n",
        "[6] T. Simonini, “Proximal Policy Optimization (PPO).” https://huggingface.co/blog/deep-rl-ppo (accessed Mar. 18, 2023).\n",
        "\n",
        "[7] J. Schulman, O. Klimov, F. Wolski, P. Dhariwal, and A. Radford, “Proximal Policy Optimization,” Jul. 20, 2017. https://openai.com/research/openai-baselines-ppo (accessed Mar. 18, 2023).\n",
        "\n",
        "[8] S. Patrikar, “Batch, Mini Batch & Stochastic Gradient Descent,” Medium, Oct. 01, 2019. https://towardsdatascience.com/batch-mini-batch-stochastic-gradient-descent-7a62ecba642a (accessed Mar. 18, 2023).\n",
        "\n",
        "[9] T. Kim, “Understanding and Implementing Proximal Policy Optimization (Schulman et al., 2017),” Medium, May 06, 2021. https://towardsdatascience.com/understanding-and-implementing-proximal-policy-optimization-schulman-et-al-2017-9523078521ce (accessed Mar. 18, 2023).\n",
        "\n",
        "[10] J. Schulman, F. Wolski, P. Dhariwal, A. Radford, and O. Klimov, “Proximal Policy Optimization Algorithms.” arXiv, Aug. 28, 2017. doi: 10.48550/arXiv.1707.06347.\n",
        "\n",
        "[11] “PPO - Stable Baselines3” https://stable-baselines3.readthedocs.io/en/master/modules/ppo.html (accessed Mar. 18, 2023)."
      ],
      "metadata": {
        "id": "OwcRob0JjZIV"
      }
    }
  ]
}